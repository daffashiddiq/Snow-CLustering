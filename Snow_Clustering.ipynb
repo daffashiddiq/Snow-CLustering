{
  "nbformat": 4,
  "nbformat_minor": 0,
  "metadata": {
    "colab": {
      "name": "1301180311_Daffashiddiq Nur Awan_SALJU",
      "provenance": [],
      "collapsed_sections": [
        "xAXm19hu3wdT",
        "d_lwQhBrz7d9",
        "_RpCsgo-x75N",
        "Z2Ue8MECx75T",
        "6kOG0jTPx75g",
        "ZtXodGGMx75n",
        "8RZbr0moGHvg",
        "0ftG2Btix76F",
        "dsvlLzGfcyCw"
      ]
    },
    "kernelspec": {
      "display_name": "Python 3.7.4 64-bit ('base')",
      "language": "python",
      "name": "python37464bitbase557f2b9df0e147eab9a07f8c4540cb42"
    },
    "language_info": {
      "codemirror_mode": {
        "name": "ipython",
        "version": 3
      },
      "file_extension": ".py",
      "mimetype": "text/x-python",
      "name": "python",
      "nbconvert_exporter": "python",
      "pygments_lexer": "ipython3",
      "version": "3.7.4"
    }
  },
  "cells": [
    {
      "cell_type": "code",
      "metadata": {
        "id": "EEvBxgJ0x74V"
      },
      "source": [
        "import pandas as pd\n",
        "import numpy as np\n",
        "import matplotlib.pyplot as plt\n",
        "import seaborn as sns"
      ],
      "execution_count": null,
      "outputs": []
    },
    {
      "cell_type": "markdown",
      "metadata": {
        "id": "xAXm19hu3wdT"
      },
      "source": [
        "### Data PreProccessing"
      ]
    },
    {
      "cell_type": "code",
      "metadata": {
        "colab": {
          "base_uri": "https://localhost:8080/"
        },
        "id": "Oon5pxu8x747",
        "outputId": "cebc03ff-7c7f-4fcd-f13a-c4d926f06533"
      },
      "source": [
        "dataTrain = pd.read_csv(\"salju_train.csv\")\n",
        "dataTest = pd.read_csv(\"salju_test.csv\")\n",
        "\n",
        "dataTrain = pd.concat([dataTrain,dataTest], ignore_index = True)\n",
        "dataTrain.tail()"
      ],
      "execution_count": null,
      "outputs": [
        {
          "output_type": "execute_result",
          "data": {
            "text/html": [
              "<div>\n",
              "<style scoped>\n",
              "    .dataframe tbody tr th:only-of-type {\n",
              "        vertical-align: middle;\n",
              "    }\n",
              "\n",
              "    .dataframe tbody tr th {\n",
              "        vertical-align: top;\n",
              "    }\n",
              "\n",
              "    .dataframe thead th {\n",
              "        text-align: right;\n",
              "    }\n",
              "</style>\n",
              "<table border=\"1\" class=\"dataframe\">\n",
              "  <thead>\n",
              "    <tr style=\"text-align: right;\">\n",
              "      <th></th>\n",
              "      <th>id</th>\n",
              "      <th>Tanggal</th>\n",
              "      <th>KodeLokasi</th>\n",
              "      <th>SuhuMin</th>\n",
              "      <th>SuhuMax</th>\n",
              "      <th>Hujan</th>\n",
              "      <th>Penguapan</th>\n",
              "      <th>SinarMatahari</th>\n",
              "      <th>ArahAnginTerkencang</th>\n",
              "      <th>KecepatanAnginTerkencang</th>\n",
              "      <th>ArahAngin9am</th>\n",
              "      <th>ArahAngin3pm</th>\n",
              "      <th>KecepatanAngin9am</th>\n",
              "      <th>KecepatanAngin3pm</th>\n",
              "      <th>Kelembaban9am</th>\n",
              "      <th>Kelembaban3pm</th>\n",
              "      <th>Tekanan9am</th>\n",
              "      <th>Tekanan3pm</th>\n",
              "      <th>Awan9am</th>\n",
              "      <th>Awan3pm</th>\n",
              "      <th>Suhu9am</th>\n",
              "      <th>Suhu3pm</th>\n",
              "      <th>BersaljuHariIni</th>\n",
              "      <th>BersaljuBesok</th>\n",
              "    </tr>\n",
              "  </thead>\n",
              "  <tbody>\n",
              "    <tr>\n",
              "      <th>127272</th>\n",
              "      <td>NaN</td>\n",
              "      <td>14/11/2012</td>\n",
              "      <td>C40</td>\n",
              "      <td>7.8</td>\n",
              "      <td>25.8</td>\n",
              "      <td>0.0</td>\n",
              "      <td>8.0</td>\n",
              "      <td>13.2</td>\n",
              "      <td>NE</td>\n",
              "      <td>31.0</td>\n",
              "      <td>ENE</td>\n",
              "      <td>NW</td>\n",
              "      <td>22.0</td>\n",
              "      <td>13.0</td>\n",
              "      <td>59.0</td>\n",
              "      <td>21.0</td>\n",
              "      <td>1017.1</td>\n",
              "      <td>1014.2</td>\n",
              "      <td>6.0</td>\n",
              "      <td>1.0</td>\n",
              "      <td>16.8</td>\n",
              "      <td>24.0</td>\n",
              "      <td>No</td>\n",
              "      <td>No</td>\n",
              "    </tr>\n",
              "    <tr>\n",
              "      <th>127273</th>\n",
              "      <td>NaN</td>\n",
              "      <td>24/10/2015</td>\n",
              "      <td>C40</td>\n",
              "      <td>12.4</td>\n",
              "      <td>26.6</td>\n",
              "      <td>0.0</td>\n",
              "      <td>8.0</td>\n",
              "      <td>11.6</td>\n",
              "      <td>NW</td>\n",
              "      <td>37.0</td>\n",
              "      <td>NE</td>\n",
              "      <td>WNW</td>\n",
              "      <td>17.0</td>\n",
              "      <td>20.0</td>\n",
              "      <td>59.0</td>\n",
              "      <td>25.0</td>\n",
              "      <td>1022.2</td>\n",
              "      <td>1018.7</td>\n",
              "      <td>1.0</td>\n",
              "      <td>1.0</td>\n",
              "      <td>17.1</td>\n",
              "      <td>25.7</td>\n",
              "      <td>No</td>\n",
              "      <td>No</td>\n",
              "    </tr>\n",
              "    <tr>\n",
              "      <th>127274</th>\n",
              "      <td>NaN</td>\n",
              "      <td>31/08/2010</td>\n",
              "      <td>C21</td>\n",
              "      <td>6.7</td>\n",
              "      <td>22.9</td>\n",
              "      <td>0.0</td>\n",
              "      <td>NaN</td>\n",
              "      <td>NaN</td>\n",
              "      <td>NaN</td>\n",
              "      <td>NaN</td>\n",
              "      <td>NaN</td>\n",
              "      <td>NW</td>\n",
              "      <td>0.0</td>\n",
              "      <td>4.0</td>\n",
              "      <td>84.0</td>\n",
              "      <td>35.0</td>\n",
              "      <td>NaN</td>\n",
              "      <td>NaN</td>\n",
              "      <td>1.0</td>\n",
              "      <td>2.0</td>\n",
              "      <td>11.8</td>\n",
              "      <td>22.0</td>\n",
              "      <td>No</td>\n",
              "      <td>No</td>\n",
              "    </tr>\n",
              "    <tr>\n",
              "      <th>127275</th>\n",
              "      <td>NaN</td>\n",
              "      <td>24/08/2013</td>\n",
              "      <td>C12</td>\n",
              "      <td>12.5</td>\n",
              "      <td>26.7</td>\n",
              "      <td>0.0</td>\n",
              "      <td>9.0</td>\n",
              "      <td>10.8</td>\n",
              "      <td>NE</td>\n",
              "      <td>35.0</td>\n",
              "      <td>SW</td>\n",
              "      <td>ENE</td>\n",
              "      <td>2.0</td>\n",
              "      <td>26.0</td>\n",
              "      <td>56.0</td>\n",
              "      <td>45.0</td>\n",
              "      <td>1021.9</td>\n",
              "      <td>1018.1</td>\n",
              "      <td>5.0</td>\n",
              "      <td>5.0</td>\n",
              "      <td>22.9</td>\n",
              "      <td>25.4</td>\n",
              "      <td>No</td>\n",
              "      <td>No</td>\n",
              "    </tr>\n",
              "    <tr>\n",
              "      <th>127276</th>\n",
              "      <td>NaN</td>\n",
              "      <td>26/10/2011</td>\n",
              "      <td>C22</td>\n",
              "      <td>12.3</td>\n",
              "      <td>15.9</td>\n",
              "      <td>8.2</td>\n",
              "      <td>NaN</td>\n",
              "      <td>NaN</td>\n",
              "      <td>SE</td>\n",
              "      <td>31.0</td>\n",
              "      <td>SW</td>\n",
              "      <td>SSE</td>\n",
              "      <td>15.0</td>\n",
              "      <td>15.0</td>\n",
              "      <td>87.0</td>\n",
              "      <td>74.0</td>\n",
              "      <td>NaN</td>\n",
              "      <td>NaN</td>\n",
              "      <td>NaN</td>\n",
              "      <td>NaN</td>\n",
              "      <td>13.8</td>\n",
              "      <td>15.4</td>\n",
              "      <td>Yes</td>\n",
              "      <td>Yes</td>\n",
              "    </tr>\n",
              "  </tbody>\n",
              "</table>\n",
              "</div>"
            ],
            "text/plain": [
              "        id     Tanggal KodeLokasi  ...  Suhu3pm  BersaljuHariIni  BersaljuBesok\n",
              "127272 NaN  14/11/2012        C40  ...     24.0               No             No\n",
              "127273 NaN  24/10/2015        C40  ...     25.7               No             No\n",
              "127274 NaN  31/08/2010        C21  ...     22.0               No             No\n",
              "127275 NaN  24/08/2013        C12  ...     25.4               No             No\n",
              "127276 NaN  26/10/2011        C22  ...     15.4              Yes            Yes\n",
              "\n",
              "[5 rows x 24 columns]"
            ]
          },
          "metadata": {
            "tags": []
          },
          "execution_count": 133
        }
      ]
    },
    {
      "cell_type": "code",
      "metadata": {
        "colab": {
          "base_uri": "https://localhost:8080/"
        },
        "id": "f0npe4Cix75E",
        "scrolled": true,
        "outputId": "6f4988fd-ea3b-4b2d-ffef-c5c6c480aeee"
      },
      "source": [
        "dataTrain.describe()"
      ],
      "execution_count": null,
      "outputs": [
        {
          "output_type": "execute_result",
          "data": {
            "text/html": [
              "<div>\n",
              "<style scoped>\n",
              "    .dataframe tbody tr th:only-of-type {\n",
              "        vertical-align: middle;\n",
              "    }\n",
              "\n",
              "    .dataframe tbody tr th {\n",
              "        vertical-align: top;\n",
              "    }\n",
              "\n",
              "    .dataframe thead th {\n",
              "        text-align: right;\n",
              "    }\n",
              "</style>\n",
              "<table border=\"1\" class=\"dataframe\">\n",
              "  <thead>\n",
              "    <tr style=\"text-align: right;\">\n",
              "      <th></th>\n",
              "      <th>id</th>\n",
              "      <th>SuhuMin</th>\n",
              "      <th>SuhuMax</th>\n",
              "      <th>Hujan</th>\n",
              "      <th>Penguapan</th>\n",
              "      <th>SinarMatahari</th>\n",
              "      <th>KecepatanAnginTerkencang</th>\n",
              "      <th>KecepatanAngin9am</th>\n",
              "      <th>KecepatanAngin3pm</th>\n",
              "      <th>Kelembaban9am</th>\n",
              "      <th>Kelembaban3pm</th>\n",
              "      <th>Tekanan9am</th>\n",
              "      <th>Tekanan3pm</th>\n",
              "      <th>Awan9am</th>\n",
              "      <th>Awan3pm</th>\n",
              "      <th>Suhu9am</th>\n",
              "      <th>Suhu3pm</th>\n",
              "    </tr>\n",
              "  </thead>\n",
              "  <tbody>\n",
              "    <tr>\n",
              "      <th>count</th>\n",
              "      <td>109095.000000</td>\n",
              "      <td>125990.000000</td>\n",
              "      <td>126183.000000</td>\n",
              "      <td>124459.000000</td>\n",
              "      <td>72397.000000</td>\n",
              "      <td>66180.000000</td>\n",
              "      <td>118307.000000</td>\n",
              "      <td>125726.000000</td>\n",
              "      <td>124620.000000</td>\n",
              "      <td>124945.000000</td>\n",
              "      <td>123355.000000</td>\n",
              "      <td>114085.000000</td>\n",
              "      <td>114116.000000</td>\n",
              "      <td>78391.000000</td>\n",
              "      <td>75350.000000</td>\n",
              "      <td>125718.000000</td>\n",
              "      <td>124137.000000</td>\n",
              "    </tr>\n",
              "    <tr>\n",
              "      <th>mean</th>\n",
              "      <td>54548.000000</td>\n",
              "      <td>12.201471</td>\n",
              "      <td>23.226354</td>\n",
              "      <td>2.377650</td>\n",
              "      <td>5.469173</td>\n",
              "      <td>7.603905</td>\n",
              "      <td>40.023726</td>\n",
              "      <td>14.040636</td>\n",
              "      <td>18.664412</td>\n",
              "      <td>68.880732</td>\n",
              "      <td>51.549212</td>\n",
              "      <td>1017.634863</td>\n",
              "      <td>1015.242807</td>\n",
              "      <td>4.450741</td>\n",
              "      <td>4.513603</td>\n",
              "      <td>16.999614</td>\n",
              "      <td>21.687295</td>\n",
              "    </tr>\n",
              "    <tr>\n",
              "      <th>std</th>\n",
              "      <td>31493.158146</td>\n",
              "      <td>6.395664</td>\n",
              "      <td>7.113840</td>\n",
              "      <td>8.550372</td>\n",
              "      <td>4.195609</td>\n",
              "      <td>3.790075</td>\n",
              "      <td>13.599594</td>\n",
              "      <td>8.912196</td>\n",
              "      <td>8.818594</td>\n",
              "      <td>19.018872</td>\n",
              "      <td>20.792633</td>\n",
              "      <td>7.121660</td>\n",
              "      <td>7.051440</td>\n",
              "      <td>2.885420</td>\n",
              "      <td>2.719652</td>\n",
              "      <td>6.484337</td>\n",
              "      <td>6.930820</td>\n",
              "    </tr>\n",
              "    <tr>\n",
              "      <th>min</th>\n",
              "      <td>1.000000</td>\n",
              "      <td>-8.500000</td>\n",
              "      <td>-4.800000</td>\n",
              "      <td>0.000000</td>\n",
              "      <td>0.000000</td>\n",
              "      <td>0.000000</td>\n",
              "      <td>6.000000</td>\n",
              "      <td>0.000000</td>\n",
              "      <td>0.000000</td>\n",
              "      <td>0.000000</td>\n",
              "      <td>0.000000</td>\n",
              "      <td>980.500000</td>\n",
              "      <td>977.100000</td>\n",
              "      <td>0.000000</td>\n",
              "      <td>0.000000</td>\n",
              "      <td>-7.200000</td>\n",
              "      <td>-5.400000</td>\n",
              "    </tr>\n",
              "    <tr>\n",
              "      <th>25%</th>\n",
              "      <td>27274.500000</td>\n",
              "      <td>7.600000</td>\n",
              "      <td>17.900000</td>\n",
              "      <td>0.000000</td>\n",
              "      <td>2.600000</td>\n",
              "      <td>4.800000</td>\n",
              "      <td>31.000000</td>\n",
              "      <td>7.000000</td>\n",
              "      <td>13.000000</td>\n",
              "      <td>57.000000</td>\n",
              "      <td>37.000000</td>\n",
              "      <td>1012.900000</td>\n",
              "      <td>1010.400000</td>\n",
              "      <td>1.000000</td>\n",
              "      <td>2.000000</td>\n",
              "      <td>12.300000</td>\n",
              "      <td>16.600000</td>\n",
              "    </tr>\n",
              "    <tr>\n",
              "      <th>50%</th>\n",
              "      <td>54548.000000</td>\n",
              "      <td>12.000000</td>\n",
              "      <td>22.600000</td>\n",
              "      <td>0.000000</td>\n",
              "      <td>4.800000</td>\n",
              "      <td>8.400000</td>\n",
              "      <td>39.000000</td>\n",
              "      <td>13.000000</td>\n",
              "      <td>19.000000</td>\n",
              "      <td>70.000000</td>\n",
              "      <td>52.000000</td>\n",
              "      <td>1017.600000</td>\n",
              "      <td>1015.200000</td>\n",
              "      <td>5.000000</td>\n",
              "      <td>5.000000</td>\n",
              "      <td>16.700000</td>\n",
              "      <td>21.100000</td>\n",
              "    </tr>\n",
              "    <tr>\n",
              "      <th>75%</th>\n",
              "      <td>81821.500000</td>\n",
              "      <td>16.900000</td>\n",
              "      <td>28.200000</td>\n",
              "      <td>0.800000</td>\n",
              "      <td>7.400000</td>\n",
              "      <td>10.600000</td>\n",
              "      <td>48.000000</td>\n",
              "      <td>19.000000</td>\n",
              "      <td>24.000000</td>\n",
              "      <td>83.000000</td>\n",
              "      <td>66.000000</td>\n",
              "      <td>1022.400000</td>\n",
              "      <td>1020.000000</td>\n",
              "      <td>7.000000</td>\n",
              "      <td>7.000000</td>\n",
              "      <td>21.600000</td>\n",
              "      <td>26.400000</td>\n",
              "    </tr>\n",
              "    <tr>\n",
              "      <th>max</th>\n",
              "      <td>109095.000000</td>\n",
              "      <td>33.900000</td>\n",
              "      <td>48.100000</td>\n",
              "      <td>371.000000</td>\n",
              "      <td>145.000000</td>\n",
              "      <td>14.500000</td>\n",
              "      <td>135.000000</td>\n",
              "      <td>130.000000</td>\n",
              "      <td>87.000000</td>\n",
              "      <td>100.000000</td>\n",
              "      <td>100.000000</td>\n",
              "      <td>1041.000000</td>\n",
              "      <td>1039.600000</td>\n",
              "      <td>9.000000</td>\n",
              "      <td>9.000000</td>\n",
              "      <td>40.200000</td>\n",
              "      <td>46.700000</td>\n",
              "    </tr>\n",
              "  </tbody>\n",
              "</table>\n",
              "</div>"
            ],
            "text/plain": [
              "                  id        SuhuMin  ...        Suhu9am        Suhu3pm\n",
              "count  109095.000000  125990.000000  ...  125718.000000  124137.000000\n",
              "mean    54548.000000      12.201471  ...      16.999614      21.687295\n",
              "std     31493.158146       6.395664  ...       6.484337       6.930820\n",
              "min         1.000000      -8.500000  ...      -7.200000      -5.400000\n",
              "25%     27274.500000       7.600000  ...      12.300000      16.600000\n",
              "50%     54548.000000      12.000000  ...      16.700000      21.100000\n",
              "75%     81821.500000      16.900000  ...      21.600000      26.400000\n",
              "max    109095.000000      33.900000  ...      40.200000      46.700000\n",
              "\n",
              "[8 rows x 17 columns]"
            ]
          },
          "metadata": {
            "tags": []
          },
          "execution_count": 134
        }
      ]
    },
    {
      "cell_type": "markdown",
      "metadata": {
        "id": "d_lwQhBrz7d9"
      },
      "source": [
        "# Handling Missing Value"
      ]
    },
    {
      "cell_type": "code",
      "metadata": {
        "colab": {
          "base_uri": "https://localhost:8080/"
        },
        "id": "WWWMz1oSx75F",
        "outputId": "eb178323-845f-4764-831f-aa5291ad1a2e"
      },
      "source": [
        "dataTrain.isnull().sum()/len(dataTrain)*100"
      ],
      "execution_count": null,
      "outputs": [
        {
          "output_type": "execute_result",
          "data": {
            "text/plain": [
              "id                          14.285378\n",
              "Tanggal                      0.000000\n",
              "KodeLokasi                   0.000000\n",
              "SuhuMin                      1.011180\n",
              "SuhuMax                      0.859543\n",
              "Hujan                        2.214069\n",
              "Penguapan                   43.118552\n",
              "SinarMatahari               48.003174\n",
              "ArahAnginTerkencang          7.090833\n",
              "KecepatanAnginTerkencang     7.047621\n",
              "ArahAngin9am                 7.252685\n",
              "ArahAngin3pm                 2.901545\n",
              "KecepatanAngin9am            1.218602\n",
              "KecepatanAngin3pm            2.087573\n",
              "Kelembaban9am                1.832224\n",
              "Kelembaban3pm                3.081468\n",
              "Tekanan9am                  10.364795\n",
              "Tekanan3pm                  10.340439\n",
              "Awan9am                     38.409139\n",
              "Awan3pm                     40.798416\n",
              "Suhu9am                      1.224887\n",
              "Suhu3pm                      2.467060\n",
              "BersaljuHariIni              2.214069\n",
              "BersaljuBesok                2.239211\n",
              "dtype: float64"
            ]
          },
          "metadata": {
            "tags": []
          },
          "execution_count": 135
        }
      ]
    },
    {
      "cell_type": "code",
      "metadata": {
        "id": "iUkElBn9x75H"
      },
      "source": [
        "dataTrain = dataTrain.fillna(dataTrain.median()) \n",
        "dataTrain['ArahAnginTerkencang'] = dataTrain['ArahAnginTerkencang'].fillna(dataTrain['ArahAnginTerkencang'].value_counts().index[0])\n",
        "dataTrain['ArahAngin9am'] = dataTrain['ArahAngin9am'].fillna(dataTrain['ArahAngin9am'].value_counts().index[0])\n",
        "dataTrain['ArahAngin3pm'] = dataTrain['ArahAngin3pm'].fillna(dataTrain['ArahAngin3pm'].value_counts().index[0])"
      ],
      "execution_count": null,
      "outputs": []
    },
    {
      "cell_type": "code",
      "metadata": {
        "id": "s4j94E1Mx75I"
      },
      "source": [
        "dataTrain = dataTrain.dropna(axis = 0, subset = ['BersaljuHariIni'])\n",
        "dataTrain = dataTrain.dropna(axis = 0, subset = ['BersaljuBesok'])"
      ],
      "execution_count": null,
      "outputs": []
    },
    {
      "cell_type": "code",
      "metadata": {
        "colab": {
          "base_uri": "https://localhost:8080/"
        },
        "id": "s4Utqpbn594Y",
        "outputId": "6fb3de5c-e604-4753-dd52-ad77733eb75d"
      },
      "source": [
        "dataTrain.isnull().sum()"
      ],
      "execution_count": null,
      "outputs": [
        {
          "output_type": "execute_result",
          "data": {
            "text/plain": [
              "id                          0\n",
              "Tanggal                     0\n",
              "KodeLokasi                  0\n",
              "SuhuMin                     0\n",
              "SuhuMax                     0\n",
              "Hujan                       0\n",
              "Penguapan                   0\n",
              "SinarMatahari               0\n",
              "ArahAnginTerkencang         0\n",
              "KecepatanAnginTerkencang    0\n",
              "ArahAngin9am                0\n",
              "ArahAngin3pm                0\n",
              "KecepatanAngin9am           0\n",
              "KecepatanAngin3pm           0\n",
              "Kelembaban9am               0\n",
              "Kelembaban3pm               0\n",
              "Tekanan9am                  0\n",
              "Tekanan3pm                  0\n",
              "Awan9am                     0\n",
              "Awan3pm                     0\n",
              "Suhu9am                     0\n",
              "Suhu3pm                     0\n",
              "BersaljuHariIni             0\n",
              "BersaljuBesok               0\n",
              "dtype: int64"
            ]
          },
          "metadata": {
            "tags": []
          },
          "execution_count": 138
        }
      ]
    },
    {
      "cell_type": "markdown",
      "metadata": {
        "id": "_RpCsgo-x75N",
        "scrolled": true
      },
      "source": [
        "# outlier treatment \n",
        "-Hujan\n",
        "-penguapan\n",
        "X kecepatan angin terkencang\n",
        "-KecepatanAngin9am\t\n",
        "X KecepatanAngin3pm\n",
        "Kelembaban9am\n",
        "Kelembaban3pm"
      ]
    },
    {
      "cell_type": "code",
      "metadata": {
        "colab": {
          "base_uri": "https://localhost:8080/",
          "height": 304
        },
        "id": "eEp7w7QZSDyH",
        "outputId": "c63b2878-55fc-4a0b-d64d-7a8782e5dc7b"
      },
      "source": [
        "dataTrain.describe()"
      ],
      "execution_count": null,
      "outputs": [
        {
          "output_type": "execute_result",
          "data": {
            "text/html": [
              "<div>\n",
              "<style scoped>\n",
              "    .dataframe tbody tr th:only-of-type {\n",
              "        vertical-align: middle;\n",
              "    }\n",
              "\n",
              "    .dataframe tbody tr th {\n",
              "        vertical-align: top;\n",
              "    }\n",
              "\n",
              "    .dataframe thead th {\n",
              "        text-align: right;\n",
              "    }\n",
              "</style>\n",
              "<table border=\"1\" class=\"dataframe\">\n",
              "  <thead>\n",
              "    <tr style=\"text-align: right;\">\n",
              "      <th></th>\n",
              "      <th>id</th>\n",
              "      <th>SuhuMin</th>\n",
              "      <th>SuhuMax</th>\n",
              "      <th>Hujan</th>\n",
              "      <th>Penguapan</th>\n",
              "      <th>SinarMatahari</th>\n",
              "      <th>KecepatanAnginTerkencang</th>\n",
              "      <th>KecepatanAngin9am</th>\n",
              "      <th>KecepatanAngin3pm</th>\n",
              "      <th>Kelembaban9am</th>\n",
              "      <th>Kelembaban3pm</th>\n",
              "      <th>Tekanan9am</th>\n",
              "      <th>Tekanan3pm</th>\n",
              "      <th>Awan9am</th>\n",
              "      <th>Awan3pm</th>\n",
              "      <th>Suhu9am</th>\n",
              "      <th>Suhu3pm</th>\n",
              "    </tr>\n",
              "  </thead>\n",
              "  <tbody>\n",
              "    <tr>\n",
              "      <th>count</th>\n",
              "      <td>123223.000000</td>\n",
              "      <td>123223.000000</td>\n",
              "      <td>123223.000000</td>\n",
              "      <td>123223.000000</td>\n",
              "      <td>123223.000000</td>\n",
              "      <td>123223.000000</td>\n",
              "      <td>123223.000000</td>\n",
              "      <td>123223.000000</td>\n",
              "      <td>123223.000000</td>\n",
              "      <td>123223.00000</td>\n",
              "      <td>123223.000000</td>\n",
              "      <td>123223.000000</td>\n",
              "      <td>123223.000000</td>\n",
              "      <td>123223.000000</td>\n",
              "      <td>123223.000000</td>\n",
              "      <td>123223.000000</td>\n",
              "      <td>123223.000000</td>\n",
              "    </tr>\n",
              "    <tr>\n",
              "      <th>mean</th>\n",
              "      <td>54538.859531</td>\n",
              "      <td>12.191745</td>\n",
              "      <td>23.238274</td>\n",
              "      <td>2.367349</td>\n",
              "      <td>5.188036</td>\n",
              "      <td>7.991779</td>\n",
              "      <td>39.898314</td>\n",
              "      <td>13.980564</td>\n",
              "      <td>18.641244</td>\n",
              "      <td>68.83921</td>\n",
              "      <td>51.474011</td>\n",
              "      <td>1017.634566</td>\n",
              "      <td>1015.239788</td>\n",
              "      <td>4.645829</td>\n",
              "      <td>4.700924</td>\n",
              "      <td>16.993845</td>\n",
              "      <td>21.684956</td>\n",
              "    </tr>\n",
              "    <tr>\n",
              "      <th>std</th>\n",
              "      <td>29155.500037</td>\n",
              "      <td>6.389619</td>\n",
              "      <td>7.100969</td>\n",
              "      <td>8.537904</td>\n",
              "      <td>3.197831</td>\n",
              "      <td>2.772579</td>\n",
              "      <td>13.128259</td>\n",
              "      <td>8.850308</td>\n",
              "      <td>8.727557</td>\n",
              "      <td>18.95003</td>\n",
              "      <td>20.543725</td>\n",
              "      <td>6.764562</td>\n",
              "      <td>6.697060</td>\n",
              "      <td>2.299532</td>\n",
              "      <td>2.123137</td>\n",
              "      <td>6.475326</td>\n",
              "      <td>6.867516</td>\n",
              "    </tr>\n",
              "    <tr>\n",
              "      <th>min</th>\n",
              "      <td>1.000000</td>\n",
              "      <td>-8.500000</td>\n",
              "      <td>-4.800000</td>\n",
              "      <td>0.000000</td>\n",
              "      <td>0.000000</td>\n",
              "      <td>0.000000</td>\n",
              "      <td>6.000000</td>\n",
              "      <td>0.000000</td>\n",
              "      <td>0.000000</td>\n",
              "      <td>0.00000</td>\n",
              "      <td>0.000000</td>\n",
              "      <td>980.500000</td>\n",
              "      <td>977.100000</td>\n",
              "      <td>0.000000</td>\n",
              "      <td>0.000000</td>\n",
              "      <td>-7.200000</td>\n",
              "      <td>-5.400000</td>\n",
              "    </tr>\n",
              "    <tr>\n",
              "      <th>25%</th>\n",
              "      <td>31833.500000</td>\n",
              "      <td>7.600000</td>\n",
              "      <td>17.900000</td>\n",
              "      <td>0.000000</td>\n",
              "      <td>4.000000</td>\n",
              "      <td>8.200000</td>\n",
              "      <td>31.000000</td>\n",
              "      <td>7.000000</td>\n",
              "      <td>13.000000</td>\n",
              "      <td>57.00000</td>\n",
              "      <td>37.000000</td>\n",
              "      <td>1013.500000</td>\n",
              "      <td>1011.000000</td>\n",
              "      <td>3.000000</td>\n",
              "      <td>4.000000</td>\n",
              "      <td>12.300000</td>\n",
              "      <td>16.700000</td>\n",
              "    </tr>\n",
              "    <tr>\n",
              "      <th>50%</th>\n",
              "      <td>54548.000000</td>\n",
              "      <td>12.000000</td>\n",
              "      <td>22.600000</td>\n",
              "      <td>0.000000</td>\n",
              "      <td>4.800000</td>\n",
              "      <td>8.400000</td>\n",
              "      <td>39.000000</td>\n",
              "      <td>13.000000</td>\n",
              "      <td>19.000000</td>\n",
              "      <td>70.00000</td>\n",
              "      <td>52.000000</td>\n",
              "      <td>1017.600000</td>\n",
              "      <td>1015.200000</td>\n",
              "      <td>5.000000</td>\n",
              "      <td>5.000000</td>\n",
              "      <td>16.700000</td>\n",
              "      <td>21.100000</td>\n",
              "    </tr>\n",
              "    <tr>\n",
              "      <th>75%</th>\n",
              "      <td>77264.500000</td>\n",
              "      <td>16.800000</td>\n",
              "      <td>28.200000</td>\n",
              "      <td>0.800000</td>\n",
              "      <td>5.400000</td>\n",
              "      <td>8.700000</td>\n",
              "      <td>46.000000</td>\n",
              "      <td>19.000000</td>\n",
              "      <td>24.000000</td>\n",
              "      <td>83.00000</td>\n",
              "      <td>65.000000</td>\n",
              "      <td>1021.800000</td>\n",
              "      <td>1019.400000</td>\n",
              "      <td>6.000000</td>\n",
              "      <td>6.000000</td>\n",
              "      <td>21.500000</td>\n",
              "      <td>26.300000</td>\n",
              "    </tr>\n",
              "    <tr>\n",
              "      <th>max</th>\n",
              "      <td>109095.000000</td>\n",
              "      <td>33.900000</td>\n",
              "      <td>48.100000</td>\n",
              "      <td>371.000000</td>\n",
              "      <td>145.000000</td>\n",
              "      <td>14.500000</td>\n",
              "      <td>135.000000</td>\n",
              "      <td>130.000000</td>\n",
              "      <td>87.000000</td>\n",
              "      <td>100.00000</td>\n",
              "      <td>100.000000</td>\n",
              "      <td>1041.000000</td>\n",
              "      <td>1039.600000</td>\n",
              "      <td>9.000000</td>\n",
              "      <td>9.000000</td>\n",
              "      <td>40.200000</td>\n",
              "      <td>46.700000</td>\n",
              "    </tr>\n",
              "  </tbody>\n",
              "</table>\n",
              "</div>"
            ],
            "text/plain": [
              "                  id        SuhuMin  ...        Suhu9am        Suhu3pm\n",
              "count  123223.000000  123223.000000  ...  123223.000000  123223.000000\n",
              "mean    54538.859531      12.191745  ...      16.993845      21.684956\n",
              "std     29155.500037       6.389619  ...       6.475326       6.867516\n",
              "min         1.000000      -8.500000  ...      -7.200000      -5.400000\n",
              "25%     31833.500000       7.600000  ...      12.300000      16.700000\n",
              "50%     54548.000000      12.000000  ...      16.700000      21.100000\n",
              "75%     77264.500000      16.800000  ...      21.500000      26.300000\n",
              "max    109095.000000      33.900000  ...      40.200000      46.700000\n",
              "\n",
              "[8 rows x 17 columns]"
            ]
          },
          "metadata": {
            "tags": []
          },
          "execution_count": 139
        }
      ]
    },
    {
      "cell_type": "code",
      "metadata": {
        "colab": {
          "base_uri": "https://localhost:8080/",
          "height": 1000
        },
        "id": "uIzc2MVpSh8L",
        "outputId": "93a12b07-e751-4e41-970e-1fe3297a900a"
      },
      "source": [
        "plt1 = plt.figure(1)\n",
        "sns.boxplot(x=dataTrain['Hujan'])\n",
        "\n",
        "plt2 = plt.figure(2)\n",
        "sns.boxplot(x=dataTrain['Penguapan'])\n",
        "\n",
        "plt3 = plt.figure(3)\n",
        "sns.boxplot(x=dataTrain['KecepatanAngin9am'])\n",
        "\n",
        "plt4 = plt.figure(4)\n",
        "sns.boxplot(x=dataTrain['KecepatanAngin3pm'])\n",
        "\n",
        "plt5 = plt.figure(5)\n",
        "sns.boxplot(x=dataTrain['Kelembaban9am'])\n",
        "\n",
        "plt6 = plt.figure(6)\n",
        "sns.boxplot(x=dataTrain['Kelembaban3pm'])"
      ],
      "execution_count": null,
      "outputs": [
        {
          "output_type": "execute_result",
          "data": {
            "text/plain": [
              "<matplotlib.axes._subplots.AxesSubplot at 0x7fa7cfef1e90>"
            ]
          },
          "metadata": {
            "tags": []
          },
          "execution_count": 140
        },
        {
          "output_type": "display_data",
          "data": {
            "image/png": "[encoded data removed]",
            "text/plain": [
              "<Figure size 432x288 with 1 Axes>"
            ]
          },
          "metadata": {
            "tags": [],
            "needs_background": "light"
          }
        },
        {
          "output_type": "display_data",
          "data": {
            "image/png": "[encoded data removed]",
            "text/plain": [
              "<Figure size 432x288 with 1 Axes>"
            ]
          },
          "metadata": {
            "tags": [],
            "needs_background": "light"
          }
        },
        {
          "output_type": "display_data",
          "data": {
            "image/png": "[encoded data removed]",
            "text/plain": [
              "<Figure size 432x288 with 1 Axes>"
            ]
          },
          "metadata": {
            "tags": [],
            "needs_background": "light"
          }
        },
        {
          "output_type": "display_data",
          "data": {
            "image/png": "[encoded data removed]",
            "text/plain": [
              "<Figure size 432x288 with 1 Axes>"
            ]
          },
          "metadata": {
            "tags": [],
            "needs_background": "light"
          }
        },
        {
          "output_type": "display_data",
          "data": {
            "image/png": "[encoded data removed]",
            "text/plain": [
              "<Figure size 432x288 with 1 Axes>"
            ]
          },
          "metadata": {
            "tags": [],
            "needs_background": "light"
          }
        },
        {
          "output_type": "display_data",
          "data": {
            "image/png": "[encoded data removed]",
            "text/plain": [
              "<Figure size 432x288 with 1 Axes>"
            ]
          },
          "metadata": {
            "tags": [],
            "needs_background": "light"
          }
        }
      ]
    },
    {
      "cell_type": "code",
      "metadata": {
        "id": "79NX1C82x75P"
      },
      "source": [
        "dataTrain.Hujan[(dataTrain.Hujan>3*np.percentile(dataTrain.Hujan,[99])[0])] = 3*np.percentile(dataTrain.Hujan,[99])[0] #outlier Hujan\n",
        "dataTrain.Penguapan[(dataTrain.Penguapan>3*np.percentile(dataTrain.Penguapan,[99])[0])] = 3*np.percentile(dataTrain.Penguapan,[99])[0] #outlier penguapan\n",
        "dataTrain.KecepatanAngin9am[(dataTrain.KecepatanAngin9am>3*np.percentile(dataTrain.KecepatanAngin9am,[99])[0])] = 3*np.percentile(dataTrain.KecepatanAngin9am,[99])[0] #outlier KecepatanAngin9am\n",
        "dataTrain.KecepatanAngin3pm[(dataTrain.KecepatanAngin3pm>3*np.percentile(dataTrain.KecepatanAngin3pm,[99])[0])] = 3*np.percentile(dataTrain.KecepatanAngin3pm,[99])[0] #outlier KecepatanAngin9am\n",
        "dataTrain.Kelembaban9am[(dataTrain.Kelembaban9am < 0.3*np.percentile(dataTrain.Kelembaban9am,[1])[0])] = 0.3*np.percentile(dataTrain.Kelembaban9am,[1])[0] #outlier Kelembaban9am\n",
        "dataTrain.Kelembaban3pm[(dataTrain.Kelembaban3pm < 0.3*np.percentile(dataTrain.Kelembaban3pm,[1])[0])] = 0.3*np.percentile(dataTrain.Kelembaban3pm,[1])[0] #outlier Kelembaban3pm"
      ],
      "execution_count": null,
      "outputs": []
    },
    {
      "cell_type": "code",
      "metadata": {
        "colab": {
          "base_uri": "https://localhost:8080/",
          "height": 304
        },
        "id": "8766C0Gxx75R",
        "scrolled": true,
        "outputId": "afb081ae-73bb-43d6-c93c-0887f6a96efd"
      },
      "source": [
        "dataTrain.describe()"
      ],
      "execution_count": null,
      "outputs": [
        {
          "output_type": "execute_result",
          "data": {
            "text/html": [
              "<div>\n",
              "<style scoped>\n",
              "    .dataframe tbody tr th:only-of-type {\n",
              "        vertical-align: middle;\n",
              "    }\n",
              "\n",
              "    .dataframe tbody tr th {\n",
              "        vertical-align: top;\n",
              "    }\n",
              "\n",
              "    .dataframe thead th {\n",
              "        text-align: right;\n",
              "    }\n",
              "</style>\n",
              "<table border=\"1\" class=\"dataframe\">\n",
              "  <thead>\n",
              "    <tr style=\"text-align: right;\">\n",
              "      <th></th>\n",
              "      <th>id</th>\n",
              "      <th>SuhuMin</th>\n",
              "      <th>SuhuMax</th>\n",
              "      <th>Hujan</th>\n",
              "      <th>Penguapan</th>\n",
              "      <th>SinarMatahari</th>\n",
              "      <th>KecepatanAnginTerkencang</th>\n",
              "      <th>KecepatanAngin9am</th>\n",
              "      <th>KecepatanAngin3pm</th>\n",
              "      <th>Kelembaban9am</th>\n",
              "      <th>Kelembaban3pm</th>\n",
              "      <th>Tekanan9am</th>\n",
              "      <th>Tekanan3pm</th>\n",
              "      <th>Awan9am</th>\n",
              "      <th>Awan3pm</th>\n",
              "      <th>Suhu9am</th>\n",
              "      <th>Suhu3pm</th>\n",
              "    </tr>\n",
              "  </thead>\n",
              "  <tbody>\n",
              "    <tr>\n",
              "      <th>count</th>\n",
              "      <td>123223.000000</td>\n",
              "      <td>123223.000000</td>\n",
              "      <td>123223.000000</td>\n",
              "      <td>123223.000000</td>\n",
              "      <td>123223.000000</td>\n",
              "      <td>123223.000000</td>\n",
              "      <td>123223.000000</td>\n",
              "      <td>123223.000000</td>\n",
              "      <td>123223.000000</td>\n",
              "      <td>123223.000000</td>\n",
              "      <td>123223.000000</td>\n",
              "      <td>123223.000000</td>\n",
              "      <td>123223.000000</td>\n",
              "      <td>123223.000000</td>\n",
              "      <td>123223.000000</td>\n",
              "      <td>123223.000000</td>\n",
              "      <td>123223.000000</td>\n",
              "    </tr>\n",
              "    <tr>\n",
              "      <th>mean</th>\n",
              "      <td>54538.859531</td>\n",
              "      <td>12.191745</td>\n",
              "      <td>23.238274</td>\n",
              "      <td>2.333254</td>\n",
              "      <td>5.182452</td>\n",
              "      <td>7.991779</td>\n",
              "      <td>39.898314</td>\n",
              "      <td>13.980458</td>\n",
              "      <td>18.641244</td>\n",
              "      <td>68.840020</td>\n",
              "      <td>51.474578</td>\n",
              "      <td>1017.634566</td>\n",
              "      <td>1015.239788</td>\n",
              "      <td>4.645829</td>\n",
              "      <td>4.700924</td>\n",
              "      <td>16.993845</td>\n",
              "      <td>21.684956</td>\n",
              "    </tr>\n",
              "    <tr>\n",
              "      <th>std</th>\n",
              "      <td>29155.500037</td>\n",
              "      <td>6.389619</td>\n",
              "      <td>7.100969</td>\n",
              "      <td>7.878515</td>\n",
              "      <td>3.096625</td>\n",
              "      <td>2.772579</td>\n",
              "      <td>13.128259</td>\n",
              "      <td>8.849002</td>\n",
              "      <td>8.727557</td>\n",
              "      <td>18.947262</td>\n",
              "      <td>20.542357</td>\n",
              "      <td>6.764562</td>\n",
              "      <td>6.697060</td>\n",
              "      <td>2.299532</td>\n",
              "      <td>2.123137</td>\n",
              "      <td>6.475326</td>\n",
              "      <td>6.867516</td>\n",
              "    </tr>\n",
              "    <tr>\n",
              "      <th>min</th>\n",
              "      <td>1.000000</td>\n",
              "      <td>-8.500000</td>\n",
              "      <td>-4.800000</td>\n",
              "      <td>0.000000</td>\n",
              "      <td>0.000000</td>\n",
              "      <td>0.000000</td>\n",
              "      <td>6.000000</td>\n",
              "      <td>0.000000</td>\n",
              "      <td>0.000000</td>\n",
              "      <td>5.400000</td>\n",
              "      <td>2.700000</td>\n",
              "      <td>980.500000</td>\n",
              "      <td>977.100000</td>\n",
              "      <td>0.000000</td>\n",
              "      <td>0.000000</td>\n",
              "      <td>-7.200000</td>\n",
              "      <td>-5.400000</td>\n",
              "    </tr>\n",
              "    <tr>\n",
              "      <th>25%</th>\n",
              "      <td>31833.500000</td>\n",
              "      <td>7.600000</td>\n",
              "      <td>17.900000</td>\n",
              "      <td>0.000000</td>\n",
              "      <td>4.000000</td>\n",
              "      <td>8.200000</td>\n",
              "      <td>31.000000</td>\n",
              "      <td>7.000000</td>\n",
              "      <td>13.000000</td>\n",
              "      <td>57.000000</td>\n",
              "      <td>37.000000</td>\n",
              "      <td>1013.500000</td>\n",
              "      <td>1011.000000</td>\n",
              "      <td>3.000000</td>\n",
              "      <td>4.000000</td>\n",
              "      <td>12.300000</td>\n",
              "      <td>16.700000</td>\n",
              "    </tr>\n",
              "    <tr>\n",
              "      <th>50%</th>\n",
              "      <td>54548.000000</td>\n",
              "      <td>12.000000</td>\n",
              "      <td>22.600000</td>\n",
              "      <td>0.000000</td>\n",
              "      <td>4.800000</td>\n",
              "      <td>8.400000</td>\n",
              "      <td>39.000000</td>\n",
              "      <td>13.000000</td>\n",
              "      <td>19.000000</td>\n",
              "      <td>70.000000</td>\n",
              "      <td>52.000000</td>\n",
              "      <td>1017.600000</td>\n",
              "      <td>1015.200000</td>\n",
              "      <td>5.000000</td>\n",
              "      <td>5.000000</td>\n",
              "      <td>16.700000</td>\n",
              "      <td>21.100000</td>\n",
              "    </tr>\n",
              "    <tr>\n",
              "      <th>75%</th>\n",
              "      <td>77264.500000</td>\n",
              "      <td>16.800000</td>\n",
              "      <td>28.200000</td>\n",
              "      <td>0.800000</td>\n",
              "      <td>5.400000</td>\n",
              "      <td>8.700000</td>\n",
              "      <td>46.000000</td>\n",
              "      <td>19.000000</td>\n",
              "      <td>24.000000</td>\n",
              "      <td>83.000000</td>\n",
              "      <td>65.000000</td>\n",
              "      <td>1021.800000</td>\n",
              "      <td>1019.400000</td>\n",
              "      <td>6.000000</td>\n",
              "      <td>6.000000</td>\n",
              "      <td>21.500000</td>\n",
              "      <td>26.300000</td>\n",
              "    </tr>\n",
              "    <tr>\n",
              "      <th>max</th>\n",
              "      <td>109095.000000</td>\n",
              "      <td>33.900000</td>\n",
              "      <td>48.100000</td>\n",
              "      <td>112.200000</td>\n",
              "      <td>47.400000</td>\n",
              "      <td>14.500000</td>\n",
              "      <td>135.000000</td>\n",
              "      <td>117.000000</td>\n",
              "      <td>87.000000</td>\n",
              "      <td>100.000000</td>\n",
              "      <td>100.000000</td>\n",
              "      <td>1041.000000</td>\n",
              "      <td>1039.600000</td>\n",
              "      <td>9.000000</td>\n",
              "      <td>9.000000</td>\n",
              "      <td>40.200000</td>\n",
              "      <td>46.700000</td>\n",
              "    </tr>\n",
              "  </tbody>\n",
              "</table>\n",
              "</div>"
            ],
            "text/plain": [
              "                  id        SuhuMin  ...        Suhu9am        Suhu3pm\n",
              "count  123223.000000  123223.000000  ...  123223.000000  123223.000000\n",
              "mean    54538.859531      12.191745  ...      16.993845      21.684956\n",
              "std     29155.500037       6.389619  ...       6.475326       6.867516\n",
              "min         1.000000      -8.500000  ...      -7.200000      -5.400000\n",
              "25%     31833.500000       7.600000  ...      12.300000      16.700000\n",
              "50%     54548.000000      12.000000  ...      16.700000      21.100000\n",
              "75%     77264.500000      16.800000  ...      21.500000      26.300000\n",
              "max    109095.000000      33.900000  ...      40.200000      46.700000\n",
              "\n",
              "[8 rows x 17 columns]"
            ]
          },
          "metadata": {
            "tags": []
          },
          "execution_count": 142
        }
      ]
    },
    {
      "cell_type": "code",
      "metadata": {
        "colab": {
          "base_uri": "https://localhost:8080/",
          "height": 1000
        },
        "id": "_ftG0M3OX-Ws",
        "outputId": "70092c09-b3be-4aa1-ad61-77ca379e1868"
      },
      "source": [
        "plt1 = plt.figure(1)\n",
        "sns.boxplot(x=dataTrain['Hujan'])\n",
        "\n",
        "plt2 = plt.figure(2)\n",
        "sns.boxplot(x=dataTrain['Penguapan'])\n",
        "\n",
        "plt3 = plt.figure(3)\n",
        "sns.boxplot(x=dataTrain['KecepatanAngin9am'])\n",
        "\n",
        "plt4 = plt.figure(4)\n",
        "sns.boxplot(x=dataTrain['KecepatanAngin3pm'])\n",
        "\n",
        "plt5 = plt.figure(5)\n",
        "sns.boxplot(x=dataTrain['Kelembaban9am'])\n",
        "\n",
        "plt6 = plt.figure(6)\n",
        "sns.boxplot(x=dataTrain['Kelembaban3pm'])"
      ],
      "execution_count": null,
      "outputs": [
        {
          "output_type": "execute_result",
          "data": {
            "text/plain": [
              "<matplotlib.axes._subplots.AxesSubplot at 0x7fa7cfcbd590>"
            ]
          },
          "metadata": {
            "tags": []
          },
          "execution_count": 143
        },
        {
          "output_type": "display_data",
          "data": {
            "image/png": "[encoded data removed]",
            "text/plain": [
              "<Figure size 432x288 with 1 Axes>"
            ]
          },
          "metadata": {
            "tags": [],
            "needs_background": "light"
          }
        },
        {
          "output_type": "display_data",
          "data": {
            "image/png": "[encoded data removed]",
            "text/plain": [
              "<Figure size 432x288 with 1 Axes>"
            ]
          },
          "metadata": {
            "tags": [],
            "needs_background": "light"
          }
        },
        {
          "output_type": "display_data",
          "data": {
            "image/png": "[encoded data removed]",
            "text/plain": [
              "<Figure size 432x288 with 1 Axes>"
            ]
          },
          "metadata": {
            "tags": [],
            "needs_background": "light"
          }
        },
        {
          "output_type": "display_data",
          "data": {
            "image/png": "[encoded data removed]",
            "text/plain": [
              "<Figure size 432x288 with 1 Axes>"
            ]
          },
          "metadata": {
            "tags": [],
            "needs_background": "light"
          }
        },
        {
          "output_type": "display_data",
          "data": {
            "image/png": "[encoded data removed]",
            "text/plain": [
              "<Figure size 432x288 with 1 Axes>"
            ]
          },
          "metadata": {
            "tags": [],
            "needs_background": "light"
          }
        },
        {
          "output_type": "display_data",
          "data": {
            "image/png": "[encoded data removed]",
            "text/plain": [
              "<Figure size 432x288 with 1 Axes>"
            ]
          },
          "metadata": {
            "tags": [],
            "needs_background": "light"
          }
        }
      ]
    },
    {
      "cell_type": "markdown",
      "metadata": {
        "id": "Z2Ue8MECx75T"
      },
      "source": [
        "# Skewed Transformation\n",
        "Hujan\n",
        "Penguapan\n",
        "SinarMatahari"
      ]
    },
    {
      "cell_type": "code",
      "metadata": {
        "colab": {
          "base_uri": "https://localhost:8080/",
          "height": 383
        },
        "id": "OMOjx8Pox75V",
        "outputId": "76998e5a-ba21-4509-9271-b30e65444424"
      },
      "source": [
        "sns.distplot(dataTrain['Hujan']) "
      ],
      "execution_count": null,
      "outputs": [
        {
          "output_type": "stream",
          "text": [
            "/usr/local/lib/python3.7/dist-packages/seaborn/distributions.py:2557: FutureWarning:\n",
            "\n",
            "`distplot` is a deprecated function and will be removed in a future version. Please adapt your code to use either `displot` (a figure-level function with similar flexibility) or `histplot` (an axes-level function for histograms).\n",
            "\n"
          ],
          "name": "stderr"
        },
        {
          "output_type": "execute_result",
          "data": {
            "text/plain": [
              "<matplotlib.axes._subplots.AxesSubplot at 0x7fa7cfb07050>"
            ]
          },
          "metadata": {
            "tags": []
          },
          "execution_count": 144
        },
        {
          "output_type": "display_data",
          "data": {
            "image/png": "[encoded data removed]",
            "text/plain": [
              "<Figure size 432x288 with 1 Axes>"
            ]
          },
          "metadata": {
            "tags": [],
            "needs_background": "light"
          }
        }
      ]
    },
    {
      "cell_type": "code",
      "metadata": {
        "colab": {
          "base_uri": "https://localhost:8080/",
          "height": 383
        },
        "id": "OlKI5UW5P69n",
        "outputId": "bd9043ef-9736-49f9-a58f-1c9dd2966925"
      },
      "source": [
        "sns.distplot(dataTrain['Penguapan'])"
      ],
      "execution_count": null,
      "outputs": [
        {
          "output_type": "stream",
          "text": [
            "/usr/local/lib/python3.7/dist-packages/seaborn/distributions.py:2557: FutureWarning:\n",
            "\n",
            "`distplot` is a deprecated function and will be removed in a future version. Please adapt your code to use either `displot` (a figure-level function with similar flexibility) or `histplot` (an axes-level function for histograms).\n",
            "\n"
          ],
          "name": "stderr"
        },
        {
          "output_type": "execute_result",
          "data": {
            "text/plain": [
              "<matplotlib.axes._subplots.AxesSubplot at 0x7fa7cfb9ee10>"
            ]
          },
          "metadata": {
            "tags": []
          },
          "execution_count": 145
        },
        {
          "output_type": "display_data",
          "data": {
            "image/png": "[encoded data removed]",
            "text/plain": [
              "<Figure size 432x288 with 1 Axes>"
            ]
          },
          "metadata": {
            "tags": [],
            "needs_background": "light"
          }
        }
      ]
    },
    {
      "cell_type": "code",
      "metadata": {
        "colab": {
          "base_uri": "https://localhost:8080/",
          "height": 383
        },
        "id": "5IOKPZt_P9sL",
        "outputId": "357d4496-9913-4e18-a931-00d4fa560be2"
      },
      "source": [
        "sns.distplot(dataTrain['SinarMatahari'])"
      ],
      "execution_count": null,
      "outputs": [
        {
          "output_type": "stream",
          "text": [
            "/usr/local/lib/python3.7/dist-packages/seaborn/distributions.py:2557: FutureWarning:\n",
            "\n",
            "`distplot` is a deprecated function and will be removed in a future version. Please adapt your code to use either `displot` (a figure-level function with similar flexibility) or `histplot` (an axes-level function for histograms).\n",
            "\n"
          ],
          "name": "stderr"
        },
        {
          "output_type": "execute_result",
          "data": {
            "text/plain": [
              "<matplotlib.axes._subplots.AxesSubplot at 0x7fa7cfb45d90>"
            ]
          },
          "metadata": {
            "tags": []
          },
          "execution_count": 146
        },
        {
          "output_type": "display_data",
          "data": {
            "image/png": "[encoded data removed]",
            "text/plain": [
              "<Figure size 432x288 with 1 Axes>"
            ]
          },
          "metadata": {
            "tags": [],
            "needs_background": "light"
          }
        }
      ]
    },
    {
      "cell_type": "code",
      "metadata": {
        "id": "tU-e73wAx75Y"
      },
      "source": [
        "dataTrain['Hujan'] = np.log(1+dataTrain['Hujan'])\n",
        "dataTrain['Penguapan'] = np.log(1+dataTrain['Penguapan'])\n",
        "dataTrain['SinarMatahari'] = np.sqrt(dataTrain['SinarMatahari'])"
      ],
      "execution_count": null,
      "outputs": []
    },
    {
      "cell_type": "code",
      "metadata": {
        "colab": {
          "base_uri": "https://localhost:8080/"
        },
        "id": "ZOJ72UNMx75Z",
        "outputId": "04d5b6af-433a-4bd5-99d2-78b962ea6905"
      },
      "source": [
        "dataTrain['Hujan'].skew()"
      ],
      "execution_count": null,
      "outputs": [
        {
          "output_type": "execute_result",
          "data": {
            "text/plain": [
              "2.0327766092401722"
            ]
          },
          "metadata": {
            "tags": []
          },
          "execution_count": 148
        }
      ]
    },
    {
      "cell_type": "code",
      "metadata": {
        "colab": {
          "base_uri": "https://localhost:8080/"
        },
        "id": "xx5MD3KOx75b",
        "outputId": "62c5c908-1759-4eb2-f4ee-76169057bd17"
      },
      "source": [
        "dataTrain['Penguapan'].skew()"
      ],
      "execution_count": null,
      "outputs": [
        {
          "output_type": "execute_result",
          "data": {
            "text/plain": [
              "-0.435654832795442"
            ]
          },
          "metadata": {
            "tags": []
          },
          "execution_count": 149
        }
      ]
    },
    {
      "cell_type": "code",
      "metadata": {
        "colab": {
          "base_uri": "https://localhost:8080/"
        },
        "id": "0rFbG4CYx75e",
        "outputId": "9948047f-b8f7-4c0b-a7d3-3841c10438cd"
      },
      "source": [
        "dataTrain['SinarMatahari'].skew()"
      ],
      "execution_count": null,
      "outputs": [
        {
          "output_type": "execute_result",
          "data": {
            "text/plain": [
              "-2.2136313209082417"
            ]
          },
          "metadata": {
            "tags": []
          },
          "execution_count": 150
        }
      ]
    },
    {
      "cell_type": "code",
      "metadata": {
        "id": "9amJWnPWx75f",
        "colab": {
          "base_uri": "https://localhost:8080/",
          "height": 384
        },
        "outputId": "94810aa1-f8d9-40f4-cf3e-8f96f43c8ed4"
      },
      "source": [
        "sns.distplot(dataTrain['Hujan'])"
      ],
      "execution_count": null,
      "outputs": [
        {
          "output_type": "stream",
          "text": [
            "/usr/local/lib/python3.7/dist-packages/seaborn/distributions.py:2557: FutureWarning:\n",
            "\n",
            "`distplot` is a deprecated function and will be removed in a future version. Please adapt your code to use either `displot` (a figure-level function with similar flexibility) or `histplot` (an axes-level function for histograms).\n",
            "\n"
          ],
          "name": "stderr"
        },
        {
          "output_type": "execute_result",
          "data": {
            "text/plain": [
              "<matplotlib.axes._subplots.AxesSubplot at 0x7fa7cf782910>"
            ]
          },
          "metadata": {
            "tags": []
          },
          "execution_count": 151
        },
        {
          "output_type": "display_data",
          "data": {
            "image/png": "[encoded data removed]",
            "text/plain": [
              "<Figure size 432x288 with 1 Axes>"
            ]
          },
          "metadata": {
            "tags": [],
            "needs_background": "light"
          }
        }
      ]
    },
    {
      "cell_type": "code",
      "metadata": {
        "colab": {
          "base_uri": "https://localhost:8080/",
          "height": 386
        },
        "id": "u_RyfTgDQLsz",
        "outputId": "05b355d5-60f3-4cc6-ecb5-ca5f35071c6e"
      },
      "source": [
        "sns.distplot(dataTrain['Penguapan'])"
      ],
      "execution_count": null,
      "outputs": [
        {
          "output_type": "stream",
          "text": [
            "/usr/local/lib/python3.7/dist-packages/seaborn/distributions.py:2557: FutureWarning:\n",
            "\n",
            "`distplot` is a deprecated function and will be removed in a future version. Please adapt your code to use either `displot` (a figure-level function with similar flexibility) or `histplot` (an axes-level function for histograms).\n",
            "\n"
          ],
          "name": "stderr"
        },
        {
          "output_type": "execute_result",
          "data": {
            "text/plain": [
              "<matplotlib.axes._subplots.AxesSubplot at 0x7fa7cf76e550>"
            ]
          },
          "metadata": {
            "tags": []
          },
          "execution_count": 152
        },
        {
          "output_type": "display_data",
          "data": {
            "image/png": "[encoded data removed]",
            "text/plain": [
              "<Figure size 432x288 with 1 Axes>"
            ]
          },
          "metadata": {
            "tags": [],
            "needs_background": "light"
          }
        }
      ]
    },
    {
      "cell_type": "code",
      "metadata": {
        "colab": {
          "base_uri": "https://localhost:8080/",
          "height": 383
        },
        "id": "RdJ5GIXGQN0Y",
        "outputId": "4d09e1d5-5d49-4625-c984-36714e85053f"
      },
      "source": [
        "sns.distplot(dataTrain['SinarMatahari'])"
      ],
      "execution_count": null,
      "outputs": [
        {
          "output_type": "stream",
          "text": [
            "/usr/local/lib/python3.7/dist-packages/seaborn/distributions.py:2557: FutureWarning:\n",
            "\n",
            "`distplot` is a deprecated function and will be removed in a future version. Please adapt your code to use either `displot` (a figure-level function with similar flexibility) or `histplot` (an axes-level function for histograms).\n",
            "\n"
          ],
          "name": "stderr"
        },
        {
          "output_type": "execute_result",
          "data": {
            "text/plain": [
              "<matplotlib.axes._subplots.AxesSubplot at 0x7fa7cf4a48d0>"
            ]
          },
          "metadata": {
            "tags": []
          },
          "execution_count": 153
        },
        {
          "output_type": "display_data",
          "data": {
            "image/png": "[encoded data removed]",
            "text/plain": [
              "<Figure size 432x288 with 1 Axes>"
            ]
          },
          "metadata": {
            "tags": [],
            "needs_background": "light"
          }
        }
      ]
    },
    {
      "cell_type": "markdown",
      "metadata": {
        "id": "6kOG0jTPx75g"
      },
      "source": [
        "# Data Transformation"
      ]
    },
    {
      "cell_type": "code",
      "metadata": {
        "colab": {
          "base_uri": "https://localhost:8080/"
        },
        "id": "602s_cnkWgRs",
        "outputId": "ce64d0fb-ecfc-4131-f93f-c1e4119cda63"
      },
      "source": [
        "dataTrain.info()"
      ],
      "execution_count": null,
      "outputs": [
        {
          "output_type": "stream",
          "text": [
            "<class 'pandas.core.frame.DataFrame'>\n",
            "Int64Index: 123223 entries, 0 to 127276\n",
            "Data columns (total 24 columns):\n",
            " #   Column                    Non-Null Count   Dtype  \n",
            "---  ------                    --------------   -----  \n",
            " 0   id                        123223 non-null  float64\n",
            " 1   Tanggal                   123223 non-null  object \n",
            " 2   KodeLokasi                123223 non-null  object \n",
            " 3   SuhuMin                   123223 non-null  float64\n",
            " 4   SuhuMax                   123223 non-null  float64\n",
            " 5   Hujan                     123223 non-null  float64\n",
            " 6   Penguapan                 123223 non-null  float64\n",
            " 7   SinarMatahari             123223 non-null  float64\n",
            " 8   ArahAnginTerkencang       123223 non-null  object \n",
            " 9   KecepatanAnginTerkencang  123223 non-null  float64\n",
            " 10  ArahAngin9am              123223 non-null  object \n",
            " 11  ArahAngin3pm              123223 non-null  object \n",
            " 12  KecepatanAngin9am         123223 non-null  float64\n",
            " 13  KecepatanAngin3pm         123223 non-null  float64\n",
            " 14  Kelembaban9am             123223 non-null  float64\n",
            " 15  Kelembaban3pm             123223 non-null  float64\n",
            " 16  Tekanan9am                123223 non-null  float64\n",
            " 17  Tekanan3pm                123223 non-null  float64\n",
            " 18  Awan9am                   123223 non-null  float64\n",
            " 19  Awan3pm                   123223 non-null  float64\n",
            " 20  Suhu9am                   123223 non-null  float64\n",
            " 21  Suhu3pm                   123223 non-null  float64\n",
            " 22  BersaljuHariIni           123223 non-null  object \n",
            " 23  BersaljuBesok             123223 non-null  object \n",
            "dtypes: float64(17), object(7)\n",
            "memory usage: 23.5+ MB\n"
          ],
          "name": "stdout"
        }
      ]
    },
    {
      "cell_type": "code",
      "metadata": {
        "id": "cXxILgjKx75h"
      },
      "source": [
        "dataTrain['Tanggal'] = pd.to_datetime(dataTrain['Tanggal'])"
      ],
      "execution_count": null,
      "outputs": []
    },
    {
      "cell_type": "code",
      "metadata": {
        "id": "5m0unODMx75i",
        "colab": {
          "base_uri": "https://localhost:8080/"
        },
        "outputId": "5bcf3729-fbeb-40ee-cb04-877328ae86cb"
      },
      "source": [
        "dataTrain.info()"
      ],
      "execution_count": null,
      "outputs": [
        {
          "output_type": "stream",
          "text": [
            "<class 'pandas.core.frame.DataFrame'>\n",
            "Int64Index: 123223 entries, 0 to 127276\n",
            "Data columns (total 24 columns):\n",
            " #   Column                    Non-Null Count   Dtype         \n",
            "---  ------                    --------------   -----         \n",
            " 0   id                        123223 non-null  float64       \n",
            " 1   Tanggal                   123223 non-null  datetime64[ns]\n",
            " 2   KodeLokasi                123223 non-null  object        \n",
            " 3   SuhuMin                   123223 non-null  float64       \n",
            " 4   SuhuMax                   123223 non-null  float64       \n",
            " 5   Hujan                     123223 non-null  float64       \n",
            " 6   Penguapan                 123223 non-null  float64       \n",
            " 7   SinarMatahari             123223 non-null  float64       \n",
            " 8   ArahAnginTerkencang       123223 non-null  object        \n",
            " 9   KecepatanAnginTerkencang  123223 non-null  float64       \n",
            " 10  ArahAngin9am              123223 non-null  object        \n",
            " 11  ArahAngin3pm              123223 non-null  object        \n",
            " 12  KecepatanAngin9am         123223 non-null  float64       \n",
            " 13  KecepatanAngin3pm         123223 non-null  float64       \n",
            " 14  Kelembaban9am             123223 non-null  float64       \n",
            " 15  Kelembaban3pm             123223 non-null  float64       \n",
            " 16  Tekanan9am                123223 non-null  float64       \n",
            " 17  Tekanan3pm                123223 non-null  float64       \n",
            " 18  Awan9am                   123223 non-null  float64       \n",
            " 19  Awan3pm                   123223 non-null  float64       \n",
            " 20  Suhu9am                   123223 non-null  float64       \n",
            " 21  Suhu3pm                   123223 non-null  float64       \n",
            " 22  BersaljuHariIni           123223 non-null  object        \n",
            " 23  BersaljuBesok             123223 non-null  object        \n",
            "dtypes: datetime64[ns](1), float64(17), object(6)\n",
            "memory usage: 23.5+ MB\n"
          ],
          "name": "stdout"
        }
      ]
    },
    {
      "cell_type": "markdown",
      "metadata": {
        "id": "ZtXodGGMx75n"
      },
      "source": [
        "# Correlation\n",
        "suhu 9 am (0.026737)suhumin(-.082948)\n",
        "suhu 9 am - suhumax(0.161139)\n",
        "suhu 9 am - suuhu 3pm\n",
        "suhu 3pm 0.193617- suhumax\n",
        "Tekanan9am - Tekanan3pm\n",
        "-Tekanan3pm"
      ]
    },
    {
      "cell_type": "code",
      "metadata": {
        "id": "p32L0zUp8K5E",
        "colab": {
          "base_uri": "https://localhost:8080/",
          "height": 414
        },
        "outputId": "4e0e0225-7f91-4b65-af7a-107cf132d124"
      },
      "source": [
        "sns.heatmap(dataTrain.corr())"
      ],
      "execution_count": null,
      "outputs": [
        {
          "output_type": "execute_result",
          "data": {
            "text/plain": [
              "<matplotlib.axes._subplots.AxesSubplot at 0x7fa7cf4006d0>"
            ]
          },
          "metadata": {
            "tags": []
          },
          "execution_count": 157
        },
        {
          "output_type": "display_data",
          "data": {
            "image/png": "[encoded data removed]",
            "text/plain": [
              "<Figure size 432x288 with 2 Axes>"
            ]
          },
          "metadata": {
            "tags": [],
            "needs_background": "light"
          }
        }
      ]
    },
    {
      "cell_type": "markdown",
      "metadata": {
        "id": "8RZbr0moGHvg"
      },
      "source": [
        "# Data Deletion"
      ]
    },
    {
      "cell_type": "code",
      "metadata": {
        "id": "axreZUheGOM9"
      },
      "source": [
        "del dataTrain['Tekanan3pm']\n",
        "del dataTrain['ArahAnginTerkencang']\n",
        "# del dataTrain['Tanggal']\n",
        "#del dataTrain['KodeLokasi']\n",
        "del dataTrain['ArahAngin9am']\n",
        "del dataTrain['ArahAngin3pm']\n",
        "del dataTrain['id']\n",
        "del dataTrain['BersaljuBesok']\n",
        "# del dataTrain['Suhu3pm']\n",
        "# del dataTrain['Suhu9am']\n",
        "# del dataTrain['Hujan']\n",
        "# del dataTrain['Penguapan']\n",
        "del dataTrain['BersaljuHariIni']\n",
        "# del dataTrain['Awan3pm']\n",
        "# del dataTrain['Awan9am']\n",
        "del dataTrain['KecepatanAngin3pm']\n",
        "del dataTrain['KecepatanAngin9am']\n",
        "del dataTrain['KecepatanAnginTerkencang']\n",
        "del dataTrain['Tekanan9am']"
      ],
      "execution_count": null,
      "outputs": []
    },
    {
      "cell_type": "code",
      "metadata": {
        "colab": {
          "base_uri": "https://localhost:8080/"
        },
        "id": "DY7U_LpjGVDs",
        "outputId": "82a26685-1ce1-4a6b-fd90-71fe3e500200"
      },
      "source": [
        "sns.heatmap(dataTrain.corr())"
      ],
      "execution_count": null,
      "outputs": [
        {
          "output_type": "execute_result",
          "data": {
            "text/plain": [
              "<matplotlib.axes._subplots.AxesSubplot at 0x7fa7cf8fbe90>"
            ]
          },
          "metadata": {
            "tags": []
          },
          "execution_count": 159
        },
        {
          "output_type": "display_data",
          "data": {
            "image/png": "[encoded data removed]",
            "text/plain": [
              "<Figure size 432x288 with 2 Axes>"
            ]
          },
          "metadata": {
            "tags": [],
            "needs_background": "light"
          }
        }
      ]
    },
    {
      "cell_type": "markdown",
      "metadata": {
        "id": "0ftG2Btix76F",
        "scrolled": true
      },
      "source": [
        "# Feature Engineering"
      ]
    },
    {
      "cell_type": "code",
      "metadata": {
        "id": "6sGZaLH1x76G"
      },
      "source": [
        "# dataTrain['BersaljuHariIni'] = pd.get_dummies(dataTrain['BersaljuHariIni'])# tidak = 1, ya = 0\n",
        "# dataTrain['BersaljuBesok'] = pd.get_dummies(dataTrain['BersaljuBesok'])# tidak = 1, ya = 0"
      ],
      "execution_count": null,
      "outputs": []
    },
    {
      "cell_type": "code",
      "metadata": {
        "id": "5VTqYDigx76H"
      },
      "source": [
        "dataTrain['Bulan'] = pd.DatetimeIndex(dataTrain['Tanggal'],dayfirst=True).month\n",
        "# dataTrain['Tahun'] = pd.DatetimeIndex(dataTrain['Tanggal'],dayfirst=True).year\n",
        "# dataTrain['date'] = dataTrain['Bulan'].map(str)+ '-' +dataTrain['Tahun'].map(str)\n",
        "# dataTrain['date'] = pd.to_datetime(dataTrain['date'], format='%m-%Y').dt.strftime('%m-%Y')\n"
      ],
      "execution_count": null,
      "outputs": []
    },
    {
      "cell_type": "code",
      "metadata": {
        "id": "h6qsVKQ9x76I"
      },
      "source": [
        "dataTrain['KodeLokasi'] = dataTrain['KodeLokasi'].str[1:]\n",
        "dataTrain['KodeLokasi'] = pd.to_numeric(dataTrain['KodeLokasi'])"
      ],
      "execution_count": null,
      "outputs": []
    },
    {
      "cell_type": "code",
      "metadata": {
        "id": "y1daZVByIYBv"
      },
      "source": [
        "del dataTrain['Tanggal']"
      ],
      "execution_count": null,
      "outputs": []
    },
    {
      "cell_type": "code",
      "metadata": {
        "id": "fiMkLpK5x76J",
        "colab": {
          "base_uri": "https://localhost:8080/"
        },
        "outputId": "513d6158-df98-4609-9760-4df3dce3db0f"
      },
      "source": [
        "dataTrain.head()"
      ],
      "execution_count": null,
      "outputs": [
        {
          "output_type": "execute_result",
          "data": {
            "text/html": [
              "<div>\n",
              "<style scoped>\n",
              "    .dataframe tbody tr th:only-of-type {\n",
              "        vertical-align: middle;\n",
              "    }\n",
              "\n",
              "    .dataframe tbody tr th {\n",
              "        vertical-align: top;\n",
              "    }\n",
              "\n",
              "    .dataframe thead th {\n",
              "        text-align: right;\n",
              "    }\n",
              "</style>\n",
              "<table border=\"1\" class=\"dataframe\">\n",
              "  <thead>\n",
              "    <tr style=\"text-align: right;\">\n",
              "      <th></th>\n",
              "      <th>KodeLokasi</th>\n",
              "      <th>SuhuMin</th>\n",
              "      <th>SuhuMax</th>\n",
              "      <th>Hujan</th>\n",
              "      <th>Penguapan</th>\n",
              "      <th>SinarMatahari</th>\n",
              "      <th>Kelembaban9am</th>\n",
              "      <th>Kelembaban3pm</th>\n",
              "      <th>Awan9am</th>\n",
              "      <th>Awan3pm</th>\n",
              "      <th>Suhu9am</th>\n",
              "      <th>Suhu3pm</th>\n",
              "      <th>Bulan</th>\n",
              "    </tr>\n",
              "  </thead>\n",
              "  <tbody>\n",
              "    <tr>\n",
              "      <th>0</th>\n",
              "      <td>4</td>\n",
              "      <td>10.4</td>\n",
              "      <td>15.5</td>\n",
              "      <td>1.757858</td>\n",
              "      <td>1.757858</td>\n",
              "      <td>2.898275</td>\n",
              "      <td>78.0</td>\n",
              "      <td>76.0</td>\n",
              "      <td>5.0</td>\n",
              "      <td>5.0</td>\n",
              "      <td>13.1</td>\n",
              "      <td>15.0</td>\n",
              "      <td>1</td>\n",
              "    </tr>\n",
              "    <tr>\n",
              "      <th>1</th>\n",
              "      <td>10</td>\n",
              "      <td>9.0</td>\n",
              "      <td>17.0</td>\n",
              "      <td>2.197225</td>\n",
              "      <td>1.280934</td>\n",
              "      <td>2.720294</td>\n",
              "      <td>80.0</td>\n",
              "      <td>61.0</td>\n",
              "      <td>7.0</td>\n",
              "      <td>5.0</td>\n",
              "      <td>11.9</td>\n",
              "      <td>15.5</td>\n",
              "      <td>7</td>\n",
              "    </tr>\n",
              "    <tr>\n",
              "      <th>2</th>\n",
              "      <td>46</td>\n",
              "      <td>18.2</td>\n",
              "      <td>32.0</td>\n",
              "      <td>0.000000</td>\n",
              "      <td>1.757858</td>\n",
              "      <td>2.898275</td>\n",
              "      <td>62.0</td>\n",
              "      <td>42.0</td>\n",
              "      <td>5.0</td>\n",
              "      <td>5.0</td>\n",
              "      <td>23.8</td>\n",
              "      <td>29.6</td>\n",
              "      <td>2</td>\n",
              "    </tr>\n",
              "    <tr>\n",
              "      <th>3</th>\n",
              "      <td>36</td>\n",
              "      <td>7.3</td>\n",
              "      <td>24.5</td>\n",
              "      <td>0.000000</td>\n",
              "      <td>2.240710</td>\n",
              "      <td>3.224903</td>\n",
              "      <td>25.0</td>\n",
              "      <td>17.0</td>\n",
              "      <td>1.0</td>\n",
              "      <td>7.0</td>\n",
              "      <td>15.3</td>\n",
              "      <td>23.2</td>\n",
              "      <td>8</td>\n",
              "    </tr>\n",
              "    <tr>\n",
              "      <th>4</th>\n",
              "      <td>7</td>\n",
              "      <td>5.9</td>\n",
              "      <td>20.3</td>\n",
              "      <td>0.000000</td>\n",
              "      <td>1.526056</td>\n",
              "      <td>3.549648</td>\n",
              "      <td>55.0</td>\n",
              "      <td>48.0</td>\n",
              "      <td>2.0</td>\n",
              "      <td>6.0</td>\n",
              "      <td>12.4</td>\n",
              "      <td>18.1</td>\n",
              "      <td>10</td>\n",
              "    </tr>\n",
              "  </tbody>\n",
              "</table>\n",
              "</div>"
            ],
            "text/plain": [
              "   KodeLokasi  SuhuMin  SuhuMax     Hujan  ...  Awan3pm  Suhu9am  Suhu3pm  Bulan\n",
              "0           4     10.4     15.5  1.757858  ...      5.0     13.1     15.0      1\n",
              "1          10      9.0     17.0  2.197225  ...      5.0     11.9     15.5      7\n",
              "2          46     18.2     32.0  0.000000  ...      5.0     23.8     29.6      2\n",
              "3          36      7.3     24.5  0.000000  ...      7.0     15.3     23.2      8\n",
              "4           7      5.9     20.3  0.000000  ...      6.0     12.4     18.1     10\n",
              "\n",
              "[5 rows x 13 columns]"
            ]
          },
          "metadata": {
            "tags": []
          },
          "execution_count": 164
        }
      ]
    },
    {
      "cell_type": "markdown",
      "metadata": {
        "id": "dsvlLzGfcyCw"
      },
      "source": [
        "# Normalization"
      ]
    },
    {
      "cell_type": "code",
      "metadata": {
        "colab": {
          "base_uri": "https://localhost:8080/"
        },
        "id": "Qch0tLAXdD-0",
        "outputId": "c0507ab7-e5b0-4566-8259-27ff50b36eea"
      },
      "source": [
        "from sklearn.preprocessing import MinMaxScaler\n",
        "\n",
        "# create a scaler object\n",
        "scaler = MinMaxScaler()\n",
        "# fit and transform the data\n",
        "df_norm = pd.DataFrame(scaler.fit_transform(dataTrain), columns=dataTrain.columns)\n",
        "df_norm.head()"
      ],
      "execution_count": null,
      "outputs": [
        {
          "output_type": "execute_result",
          "data": {
            "text/html": [
              "<div>\n",
              "<style scoped>\n",
              "    .dataframe tbody tr th:only-of-type {\n",
              "        vertical-align: middle;\n",
              "    }\n",
              "\n",
              "    .dataframe tbody tr th {\n",
              "        vertical-align: top;\n",
              "    }\n",
              "\n",
              "    .dataframe thead th {\n",
              "        text-align: right;\n",
              "    }\n",
              "</style>\n",
              "<table border=\"1\" class=\"dataframe\">\n",
              "  <thead>\n",
              "    <tr style=\"text-align: right;\">\n",
              "      <th></th>\n",
              "      <th>KodeLokasi</th>\n",
              "      <th>SuhuMin</th>\n",
              "      <th>SuhuMax</th>\n",
              "      <th>Hujan</th>\n",
              "      <th>Penguapan</th>\n",
              "      <th>SinarMatahari</th>\n",
              "      <th>Kelembaban9am</th>\n",
              "      <th>Kelembaban3pm</th>\n",
              "      <th>Awan9am</th>\n",
              "      <th>Awan3pm</th>\n",
              "      <th>Suhu9am</th>\n",
              "      <th>Suhu3pm</th>\n",
              "      <th>Bulan</th>\n",
              "    </tr>\n",
              "  </thead>\n",
              "  <tbody>\n",
              "    <tr>\n",
              "      <th>0</th>\n",
              "      <td>0.062500</td>\n",
              "      <td>0.445755</td>\n",
              "      <td>0.383743</td>\n",
              "      <td>0.371706</td>\n",
              "      <td>0.453115</td>\n",
              "      <td>0.761124</td>\n",
              "      <td>0.767442</td>\n",
              "      <td>0.753340</td>\n",
              "      <td>0.555556</td>\n",
              "      <td>0.555556</td>\n",
              "      <td>0.428270</td>\n",
              "      <td>0.391555</td>\n",
              "      <td>0.000000</td>\n",
              "    </tr>\n",
              "    <tr>\n",
              "      <th>1</th>\n",
              "      <td>0.187500</td>\n",
              "      <td>0.412736</td>\n",
              "      <td>0.412098</td>\n",
              "      <td>0.464612</td>\n",
              "      <td>0.330180</td>\n",
              "      <td>0.714384</td>\n",
              "      <td>0.788584</td>\n",
              "      <td>0.599178</td>\n",
              "      <td>0.777778</td>\n",
              "      <td>0.555556</td>\n",
              "      <td>0.402954</td>\n",
              "      <td>0.401152</td>\n",
              "      <td>0.545455</td>\n",
              "    </tr>\n",
              "    <tr>\n",
              "      <th>2</th>\n",
              "      <td>0.937500</td>\n",
              "      <td>0.629717</td>\n",
              "      <td>0.695652</td>\n",
              "      <td>0.000000</td>\n",
              "      <td>0.453115</td>\n",
              "      <td>0.761124</td>\n",
              "      <td>0.598309</td>\n",
              "      <td>0.403905</td>\n",
              "      <td>0.555556</td>\n",
              "      <td>0.555556</td>\n",
              "      <td>0.654008</td>\n",
              "      <td>0.671785</td>\n",
              "      <td>0.090909</td>\n",
              "    </tr>\n",
              "    <tr>\n",
              "      <th>3</th>\n",
              "      <td>0.729167</td>\n",
              "      <td>0.372642</td>\n",
              "      <td>0.553875</td>\n",
              "      <td>0.000000</td>\n",
              "      <td>0.577577</td>\n",
              "      <td>0.846901</td>\n",
              "      <td>0.207188</td>\n",
              "      <td>0.146968</td>\n",
              "      <td>0.111111</td>\n",
              "      <td>0.777778</td>\n",
              "      <td>0.474684</td>\n",
              "      <td>0.548944</td>\n",
              "      <td>0.636364</td>\n",
              "    </tr>\n",
              "    <tr>\n",
              "      <th>4</th>\n",
              "      <td>0.125000</td>\n",
              "      <td>0.339623</td>\n",
              "      <td>0.474480</td>\n",
              "      <td>0.000000</td>\n",
              "      <td>0.393364</td>\n",
              "      <td>0.932183</td>\n",
              "      <td>0.524313</td>\n",
              "      <td>0.465570</td>\n",
              "      <td>0.222222</td>\n",
              "      <td>0.666667</td>\n",
              "      <td>0.413502</td>\n",
              "      <td>0.451056</td>\n",
              "      <td>0.818182</td>\n",
              "    </tr>\n",
              "  </tbody>\n",
              "</table>\n",
              "</div>"
            ],
            "text/plain": [
              "   KodeLokasi   SuhuMin   SuhuMax  ...   Suhu9am   Suhu3pm     Bulan\n",
              "0    0.062500  0.445755  0.383743  ...  0.428270  0.391555  0.000000\n",
              "1    0.187500  0.412736  0.412098  ...  0.402954  0.401152  0.545455\n",
              "2    0.937500  0.629717  0.695652  ...  0.654008  0.671785  0.090909\n",
              "3    0.729167  0.372642  0.553875  ...  0.474684  0.548944  0.636364\n",
              "4    0.125000  0.339623  0.474480  ...  0.413502  0.451056  0.818182\n",
              "\n",
              "[5 rows x 13 columns]"
            ]
          },
          "metadata": {
            "tags": []
          },
          "execution_count": 165
        }
      ]
    },
    {
      "cell_type": "markdown",
      "metadata": {
        "id": "POPuSCYX3npI"
      },
      "source": [
        "# K-Means Clustering"
      ]
    },
    {
      "cell_type": "code",
      "metadata": {
        "id": "7AjZ1dQK4F94"
      },
      "source": [
        "import random \n",
        "kolom = df_norm.columns # menyimpan kolom dari df_norm\n",
        "# dataframe dijadikan array\n",
        "X = np.array(df_norm) \n",
        "#inisialisasi awal centroid\n",
        "centroid_awal = random.sample(range(0,len(df_norm)),2) \n",
        "centroids = []\n",
        "#mencari data dengan index centroid awal\n",
        "for i in centroid_awal:      \n",
        "  centroids.append(df_norm.loc[i])\n",
        "#dijadikan array dari list\n",
        "centroids = np.array(centroids) \n",
        "#euclidan distance\n",
        "def euclid_distance(x1,x2):\n",
        "  return(sum((x1-x2)**2))**0.5 \n",
        "#ic sebagai centroid, x sebagai dataframe\n",
        "def findClosestCentroids(ic, X): \n",
        "    assigned_centroid = []\n",
        "    distElbow=[]\n",
        "    for i in X:\n",
        "        distance=[]\n",
        "        for j in ic:\n",
        "            distance.append(euclid_distance(i, j))            #jarak tiap centroid ke titik di dataFrame atau array\n",
        "        assigned_centroid.append(np.argmin(distance))       #jarak minimum dari ke K centroid akan diappend\n",
        "        distElbow.append(np.min(distance))                  #nilai dari jarak minimum dimasukkan ke list untuk penentuan nilai pada Elbow Method\n",
        "    return assigned_centroid,distElbow\n",
        "\n",
        "def calc_centroids(clusters, X):\n",
        "    new_centroids = []\n",
        "    new_df = pd.concat([pd.DataFrame(X, columns = kolom), pd.DataFrame(clusters, columns=['cluster'])],\n",
        "                      axis=1)                                                           #membuat dataFrame baru dari array dengan tambahan kolom kluster \n",
        "    for c in set(new_df['cluster']): \n",
        "        current_cluster = new_df[new_df['cluster'] == c][new_df.columns[:-1]]           #mengelompokkan dataframe dengan nilai cluster yang sama selain kolom terakhir yakni kolom kluster\n",
        "        cluster_mean = current_cluster.mean(axis=0)       #menghitung mean dari current_cluster\n",
        "        new_centroids.append(cluster_mean)                #nilai mean dijadikan centroid baru\n",
        "    \n",
        "    return new_centroids,new_df       #nilai centroid baru dan dataframe di return\n",
        "\n",
        "sum_dist=[]\n",
        "for i in range(3):\n",
        "  get_centroids,get_elbow = findClosestCentroids(centroids, X) \n",
        "  centroids,df = calc_centroids(get_centroids, X)\n",
        "  get_elbow = np.array(get_elbow)    #merubah tipe data menjadi array\n",
        "  sum_dist.append(np.sum(get_elbow))  #ditambahkan ke list dari jumlah get_elbow\n",
        "    #print(centroids)\n",
        "    # plt.figure()\n",
        "    # plt.scatter(np.array(centroids)[:, 0], np.array(centroids)[:, 1], color='black')\n",
        "    # plt.scatter(X[:, 0], X[:, 1], alpha=0.1)\n",
        "    # plt.show()\n",
        "\n",
        "# plt.figure()\n",
        "# plt.scatter(np.array(centroids)[:, 0], np.array(centroids)[:, 1], color='black')\n",
        "# plt.scatter(X[:, 0], X[:, 1], alpha=0.1)\n",
        "# plt.show()  "
      ],
      "execution_count": null,
      "outputs": []
    },
    {
      "cell_type": "markdown",
      "metadata": {
        "id": "8eMTexINHU23"
      },
      "source": [
        "# Visualization"
      ]
    },
    {
      "cell_type": "code",
      "metadata": {
        "id": "_o6wnl870Z0H",
        "colab": {
          "base_uri": "https://localhost:8080/",
          "height": 542
        },
        "outputId": "f7798c4b-9fa5-4322-e61a-25d63ea6ac1f"
      },
      "source": [
        "import plotly.express as px\n",
        "pie=df.groupby('cluster').size().reset_index()\n",
        "pie.columns=['cluster','value']\n",
        "px.pie(pie,values='value',names='cluster',color=['blue','red'])"
      ],
      "execution_count": null,
      "outputs": [
        {
          "output_type": "display_data",
          "data": {
            "text/html": [
              "<html>\n",
              "<head><meta charset=\"utf-8\" /></head>\n",
              "<body>\n",
              "    <div>\n",
              "            <script src=\"https://cdnjs.cloudflare.com/ajax/libs/mathjax/2.7.5/MathJax.js?config=TeX-AMS-MML_SVG\"></script><script type=\"text/javascript\">if (window.MathJax) {MathJax.Hub.Config({SVG: {font: \"STIX-Web\"}});}</script>\n",
              "                <script type=\"text/javascript\">window.PlotlyConfig = {MathJaxConfig: 'local'};</script>\n",
              "        <script src=\"https://cdn.plot.ly/plotly-latest.min.js\"></script>    \n",
              "            <div id=\"758ee272-b7e3-404a-b209-c4fd52b7c2f2\" class=\"plotly-graph-div\" style=\"height:525px; width:100%;\"></div>\n",
              "            <script type=\"text/javascript\">\n",
              "                \n",
              "                    window.PLOTLYENV=window.PLOTLYENV || {};\n",
              "                    \n",
              "                if (document.getElementById(\"758ee272-b7e3-404a-b209-c4fd52b7c2f2\")) {\n",
              "                    Plotly.newPlot(\n",
              "                        '758ee272-b7e3-404a-b209-c4fd52b7c2f2',\n",
              "                        [{\"customdata\": [[\"blue\"], [\"red\"]], \"domain\": {\"x\": [0.0, 1.0], \"y\": [0.0, 1.0]}, \"hoverlabel\": {\"namelength\": 0}, \"hovertemplate\": \"color=%{customdata[0]}<br>cluster=%{label}<br>value=%{value}\", \"labels\": [0, 1], \"legendgroup\": \"\", \"marker\": {\"colors\": [\"#636efa\", \"#EF553B\"]}, \"name\": \"\", \"showlegend\": true, \"type\": \"pie\", \"values\": [80053, 43170]}],\n",
              "                        {\"legend\": {\"tracegroupgap\": 0}, \"margin\": {\"t\": 60}, \"template\": {\"data\": {\"bar\": [{\"error_x\": {\"color\": \"#2a3f5f\"}, \"error_y\": {\"color\": \"#2a3f5f\"}, \"marker\": {\"line\": {\"color\": \"#E5ECF6\", \"width\": 0.5}}, \"type\": \"bar\"}], \"barpolar\": [{\"marker\": {\"line\": {\"color\": \"#E5ECF6\", \"width\": 0.5}}, \"type\": \"barpolar\"}], \"carpet\": [{\"aaxis\": {\"endlinecolor\": \"#2a3f5f\", \"gridcolor\": \"white\", \"linecolor\": \"white\", \"minorgridcolor\": \"white\", \"startlinecolor\": \"#2a3f5f\"}, \"baxis\": {\"endlinecolor\": \"#2a3f5f\", \"gridcolor\": \"white\", \"linecolor\": \"white\", \"minorgridcolor\": \"white\", \"startlinecolor\": \"#2a3f5f\"}, \"type\": \"carpet\"}], \"choropleth\": [{\"colorbar\": {\"outlinewidth\": 0, \"ticks\": \"\"}, \"type\": \"choropleth\"}], \"contour\": [{\"colorbar\": {\"outlinewidth\": 0, \"ticks\": \"\"}, \"colorscale\": [[0.0, \"#0d0887\"], [0.1111111111111111, \"#46039f\"], [0.2222222222222222, \"#7201a8\"], [0.3333333333333333, \"#9c179e\"], [0.4444444444444444, \"#bd3786\"], [0.5555555555555556, \"#d8576b\"], [0.6666666666666666, \"#ed7953\"], [0.7777777777777778, \"#fb9f3a\"], [0.8888888888888888, \"#fdca26\"], [1.0, \"#f0f921\"]], \"type\": \"contour\"}], \"contourcarpet\": [{\"colorbar\": {\"outlinewidth\": 0, \"ticks\": \"\"}, \"type\": \"contourcarpet\"}], \"heatmap\": [{\"colorbar\": {\"outlinewidth\": 0, \"ticks\": \"\"}, \"colorscale\": [[0.0, \"#0d0887\"], [0.1111111111111111, \"#46039f\"], [0.2222222222222222, \"#7201a8\"], [0.3333333333333333, \"#9c179e\"], [0.4444444444444444, \"#bd3786\"], [0.5555555555555556, \"#d8576b\"], [0.6666666666666666, \"#ed7953\"], [0.7777777777777778, \"#fb9f3a\"], [0.8888888888888888, \"#fdca26\"], [1.0, \"#f0f921\"]], \"type\": \"heatmap\"}], \"heatmapgl\": [{\"colorbar\": {\"outlinewidth\": 0, \"ticks\": \"\"}, \"colorscale\": [[0.0, \"#0d0887\"], [0.1111111111111111, \"#46039f\"], [0.2222222222222222, \"#7201a8\"], [0.3333333333333333, \"#9c179e\"], [0.4444444444444444, \"#bd3786\"], [0.5555555555555556, \"#d8576b\"], [0.6666666666666666, \"#ed7953\"], [0.7777777777777778, \"#fb9f3a\"], [0.8888888888888888, \"#fdca26\"], [1.0, \"#f0f921\"]], \"type\": \"heatmapgl\"}], \"histogram\": [{\"marker\": {\"colorbar\": {\"outlinewidth\": 0, \"ticks\": \"\"}}, \"type\": \"histogram\"}], \"histogram2d\": [{\"colorbar\": {\"outlinewidth\": 0, \"ticks\": \"\"}, \"colorscale\": [[0.0, \"#0d0887\"], [0.1111111111111111, \"#46039f\"], [0.2222222222222222, \"#7201a8\"], [0.3333333333333333, \"#9c179e\"], [0.4444444444444444, \"#bd3786\"], [0.5555555555555556, \"#d8576b\"], [0.6666666666666666, \"#ed7953\"], [0.7777777777777778, \"#fb9f3a\"], [0.8888888888888888, \"#fdca26\"], [1.0, \"#f0f921\"]], \"type\": \"histogram2d\"}], \"histogram2dcontour\": [{\"colorbar\": {\"outlinewidth\": 0, \"ticks\": \"\"}, \"colorscale\": [[0.0, \"#0d0887\"], [0.1111111111111111, \"#46039f\"], [0.2222222222222222, \"#7201a8\"], [0.3333333333333333, \"#9c179e\"], [0.4444444444444444, \"#bd3786\"], [0.5555555555555556, \"#d8576b\"], [0.6666666666666666, \"#ed7953\"], [0.7777777777777778, \"#fb9f3a\"], [0.8888888888888888, \"#fdca26\"], [1.0, \"#f0f921\"]], \"type\": \"histogram2dcontour\"}], \"mesh3d\": [{\"colorbar\": {\"outlinewidth\": 0, \"ticks\": \"\"}, \"type\": \"mesh3d\"}], \"parcoords\": [{\"line\": {\"colorbar\": {\"outlinewidth\": 0, \"ticks\": \"\"}}, \"type\": \"parcoords\"}], \"pie\": [{\"automargin\": true, \"type\": \"pie\"}], \"scatter\": [{\"marker\": {\"colorbar\": {\"outlinewidth\": 0, \"ticks\": \"\"}}, \"type\": \"scatter\"}], \"scatter3d\": [{\"line\": {\"colorbar\": {\"outlinewidth\": 0, \"ticks\": \"\"}}, \"marker\": {\"colorbar\": {\"outlinewidth\": 0, \"ticks\": \"\"}}, \"type\": \"scatter3d\"}], \"scattercarpet\": [{\"marker\": {\"colorbar\": {\"outlinewidth\": 0, \"ticks\": \"\"}}, \"type\": \"scattercarpet\"}], \"scattergeo\": [{\"marker\": {\"colorbar\": {\"outlinewidth\": 0, \"ticks\": \"\"}}, \"type\": \"scattergeo\"}], \"scattergl\": [{\"marker\": {\"colorbar\": {\"outlinewidth\": 0, \"ticks\": \"\"}}, \"type\": \"scattergl\"}], \"scattermapbox\": [{\"marker\": {\"colorbar\": {\"outlinewidth\": 0, \"ticks\": \"\"}}, \"type\": \"scattermapbox\"}], \"scatterpolar\": [{\"marker\": {\"colorbar\": {\"outlinewidth\": 0, \"ticks\": \"\"}}, \"type\": \"scatterpolar\"}], \"scatterpolargl\": [{\"marker\": {\"colorbar\": {\"outlinewidth\": 0, \"ticks\": \"\"}}, \"type\": \"scatterpolargl\"}], \"scatterternary\": [{\"marker\": {\"colorbar\": {\"outlinewidth\": 0, \"ticks\": \"\"}}, \"type\": \"scatterternary\"}], \"surface\": [{\"colorbar\": {\"outlinewidth\": 0, \"ticks\": \"\"}, \"colorscale\": [[0.0, \"#0d0887\"], [0.1111111111111111, \"#46039f\"], [0.2222222222222222, \"#7201a8\"], [0.3333333333333333, \"#9c179e\"], [0.4444444444444444, \"#bd3786\"], [0.5555555555555556, \"#d8576b\"], [0.6666666666666666, \"#ed7953\"], [0.7777777777777778, \"#fb9f3a\"], [0.8888888888888888, \"#fdca26\"], [1.0, \"#f0f921\"]], \"type\": \"surface\"}], \"table\": [{\"cells\": {\"fill\": {\"color\": \"#EBF0F8\"}, \"line\": {\"color\": \"white\"}}, \"header\": {\"fill\": {\"color\": \"#C8D4E3\"}, \"line\": {\"color\": \"white\"}}, \"type\": \"table\"}]}, \"layout\": {\"annotationdefaults\": {\"arrowcolor\": \"#2a3f5f\", \"arrowhead\": 0, \"arrowwidth\": 1}, \"coloraxis\": {\"colorbar\": {\"outlinewidth\": 0, \"ticks\": \"\"}}, \"colorscale\": {\"diverging\": [[0, \"#8e0152\"], [0.1, \"#c51b7d\"], [0.2, \"#de77ae\"], [0.3, \"#f1b6da\"], [0.4, \"#fde0ef\"], [0.5, \"#f7f7f7\"], [0.6, \"#e6f5d0\"], [0.7, \"#b8e186\"], [0.8, \"#7fbc41\"], [0.9, \"#4d9221\"], [1, \"#276419\"]], \"sequential\": [[0.0, \"#0d0887\"], [0.1111111111111111, \"#46039f\"], [0.2222222222222222, \"#7201a8\"], [0.3333333333333333, \"#9c179e\"], [0.4444444444444444, \"#bd3786\"], [0.5555555555555556, \"#d8576b\"], [0.6666666666666666, \"#ed7953\"], [0.7777777777777778, \"#fb9f3a\"], [0.8888888888888888, \"#fdca26\"], [1.0, \"#f0f921\"]], \"sequentialminus\": [[0.0, \"#0d0887\"], [0.1111111111111111, \"#46039f\"], [0.2222222222222222, \"#7201a8\"], [0.3333333333333333, \"#9c179e\"], [0.4444444444444444, \"#bd3786\"], [0.5555555555555556, \"#d8576b\"], [0.6666666666666666, \"#ed7953\"], [0.7777777777777778, \"#fb9f3a\"], [0.8888888888888888, \"#fdca26\"], [1.0, \"#f0f921\"]]}, \"colorway\": [\"#636efa\", \"#EF553B\", \"#00cc96\", \"#ab63fa\", \"#FFA15A\", \"#19d3f3\", \"#FF6692\", \"#B6E880\", \"#FF97FF\", \"#FECB52\"], \"font\": {\"color\": \"#2a3f5f\"}, \"geo\": {\"bgcolor\": \"white\", \"lakecolor\": \"white\", \"landcolor\": \"#E5ECF6\", \"showlakes\": true, \"showland\": true, \"subunitcolor\": \"white\"}, \"hoverlabel\": {\"align\": \"left\"}, \"hovermode\": \"closest\", \"mapbox\": {\"style\": \"light\"}, \"paper_bgcolor\": \"white\", \"plot_bgcolor\": \"#E5ECF6\", \"polar\": {\"angularaxis\": {\"gridcolor\": \"white\", \"linecolor\": \"white\", \"ticks\": \"\"}, \"bgcolor\": \"#E5ECF6\", \"radialaxis\": {\"gridcolor\": \"white\", \"linecolor\": \"white\", \"ticks\": \"\"}}, \"scene\": {\"xaxis\": {\"backgroundcolor\": \"#E5ECF6\", \"gridcolor\": \"white\", \"gridwidth\": 2, \"linecolor\": \"white\", \"showbackground\": true, \"ticks\": \"\", \"zerolinecolor\": \"white\"}, \"yaxis\": {\"backgroundcolor\": \"#E5ECF6\", \"gridcolor\": \"white\", \"gridwidth\": 2, \"linecolor\": \"white\", \"showbackground\": true, \"ticks\": \"\", \"zerolinecolor\": \"white\"}, \"zaxis\": {\"backgroundcolor\": \"#E5ECF6\", \"gridcolor\": \"white\", \"gridwidth\": 2, \"linecolor\": \"white\", \"showbackground\": true, \"ticks\": \"\", \"zerolinecolor\": \"white\"}}, \"shapedefaults\": {\"line\": {\"color\": \"#2a3f5f\"}}, \"ternary\": {\"aaxis\": {\"gridcolor\": \"white\", \"linecolor\": \"white\", \"ticks\": \"\"}, \"baxis\": {\"gridcolor\": \"white\", \"linecolor\": \"white\", \"ticks\": \"\"}, \"bgcolor\": \"#E5ECF6\", \"caxis\": {\"gridcolor\": \"white\", \"linecolor\": \"white\", \"ticks\": \"\"}}, \"title\": {\"x\": 0.05}, \"xaxis\": {\"automargin\": true, \"gridcolor\": \"white\", \"linecolor\": \"white\", \"ticks\": \"\", \"title\": {\"standoff\": 15}, \"zerolinecolor\": \"white\", \"zerolinewidth\": 2}, \"yaxis\": {\"automargin\": true, \"gridcolor\": \"white\", \"linecolor\": \"white\", \"ticks\": \"\", \"title\": {\"standoff\": 15}, \"zerolinecolor\": \"white\", \"zerolinewidth\": 2}}}},\n",
              "                        {\"responsive\": true}\n",
              "                    ).then(function(){\n",
              "                            \n",
              "var gd = document.getElementById('758ee272-b7e3-404a-b209-c4fd52b7c2f2');\n",
              "var x = new MutationObserver(function (mutations, observer) {{\n",
              "        var display = window.getComputedStyle(gd).display;\n",
              "        if (!display || display === 'none') {{\n",
              "            console.log([gd, 'removed!']);\n",
              "            Plotly.purge(gd);\n",
              "            observer.disconnect();\n",
              "        }}\n",
              "}});\n",
              "\n",
              "// Listen for the removal of the full notebook cells\n",
              "var notebookContainer = gd.closest('#notebook-container');\n",
              "if (notebookContainer) {{\n",
              "    x.observe(notebookContainer, {childList: true});\n",
              "}}\n",
              "\n",
              "// Listen for the clearing of the current output cell\n",
              "var outputEl = gd.closest('.output');\n",
              "if (outputEl) {{\n",
              "    x.observe(outputEl, {childList: true});\n",
              "}}\n",
              "\n",
              "                        })\n",
              "                };\n",
              "                \n",
              "            </script>\n",
              "        </div>\n",
              "</body>\n",
              "</html>"
            ]
          },
          "metadata": {
            "tags": []
          }
        }
      ]
    },
    {
      "cell_type": "code",
      "metadata": {
        "id": "AOsAaxre2BeQ",
        "colab": {
          "base_uri": "https://localhost:8080/",
          "height": 817
        },
        "outputId": "1e69c4e5-6b90-49d4-f71c-704ef460adff"
      },
      "source": [
        "polar=df.groupby(\"cluster\").mean().reset_index()\n",
        "polar=pd.melt(polar,id_vars=[\"cluster\"])\n",
        "fig4 = px.line_polar(polar, r=\"value\", theta=\"variable\", color=\"cluster\", line_close=True,height=800,width=1400)\n",
        "fig4.show()"
      ],
      "execution_count": null,
      "outputs": [
        {
          "output_type": "display_data",
          "data": {
            "text/html": [
              "<html>\n",
              "<head><meta charset=\"utf-8\" /></head>\n",
              "<body>\n",
              "    <div>\n",
              "            <script src=\"https://cdnjs.cloudflare.com/ajax/libs/mathjax/2.7.5/MathJax.js?config=TeX-AMS-MML_SVG\"></script><script type=\"text/javascript\">if (window.MathJax) {MathJax.Hub.Config({SVG: {font: \"STIX-Web\"}});}</script>\n",
              "                <script type=\"text/javascript\">window.PlotlyConfig = {MathJaxConfig: 'local'};</script>\n",
              "        <script src=\"https://cdn.plot.ly/plotly-latest.min.js\"></script>    \n",
              "            <div id=\"4c2541b3-7aa6-4247-ac63-0fccd9cb8b48\" class=\"plotly-graph-div\" style=\"height:800px; width:1400px;\"></div>\n",
              "            <script type=\"text/javascript\">\n",
              "                \n",
              "                    window.PLOTLYENV=window.PLOTLYENV || {};\n",
              "                    \n",
              "                if (document.getElementById(\"4c2541b3-7aa6-4247-ac63-0fccd9cb8b48\")) {\n",
              "                    Plotly.newPlot(\n",
              "                        '4c2541b3-7aa6-4247-ac63-0fccd9cb8b48',\n",
              "                        [{\"hoverlabel\": {\"namelength\": 0}, \"hovertemplate\": \"cluster=0<br>value=%{r}<br>variable=%{theta}\", \"legendgroup\": \"cluster=0\", \"line\": {\"color\": \"#636efa\", \"dash\": \"solid\"}, \"mode\": \"lines\", \"name\": \"cluster=0\", \"r\": [0.48878789676838685, 0.4534340633764135, 0.47262804649008877, 0.14478360493177556, 0.41319135027670656, 0.6712969125066324, 0.7505149138906428, 0.5863159079514411, 0.6183556171813402, 0.6112408862460881, 0.4632535902770334, 0.4626461600667466, 0.5492100120033916, 0.48878789676838685], \"showlegend\": true, \"subplot\": \"polar\", \"theta\": [\"KodeLokasi\", \"SuhuMin\", \"SuhuMax\", \"Hujan\", \"Penguapan\", \"SinarMatahari\", \"Kelembaban9am\", \"Kelembaban3pm\", \"Awan9am\", \"Awan3pm\", \"Suhu9am\", \"Suhu3pm\", \"Bulan\", \"KodeLokasi\"], \"type\": \"scatterpolar\"}, {\"hoverlabel\": {\"namelength\": 0}, \"hovertemplate\": \"cluster=1<br>value=%{r}<br>variable=%{theta}\", \"legendgroup\": \"cluster=1\", \"line\": {\"color\": \"#EF553B\", \"dash\": \"solid\"}, \"mode\": \"lines\", \"name\": \"cluster=1\", \"r\": [0.45969326692919776, 0.5521346060550418, 0.6364573521922543, 0.025400410452041743, 0.5006393466616923, 0.8143592459809395, 0.5224464859660467, 0.34359325604146124, 0.32677528118804666, 0.3574421537590044, 0.5978800327231414, 0.6259691075367344, 0.396064185987767, 0.45969326692919776], \"showlegend\": true, \"subplot\": \"polar\", \"theta\": [\"KodeLokasi\", \"SuhuMin\", \"SuhuMax\", \"Hujan\", \"Penguapan\", \"SinarMatahari\", \"Kelembaban9am\", \"Kelembaban3pm\", \"Awan9am\", \"Awan3pm\", \"Suhu9am\", \"Suhu3pm\", \"Bulan\", \"KodeLokasi\"], \"type\": \"scatterpolar\"}],\n",
              "                        {\"height\": 800, \"legend\": {\"tracegroupgap\": 0}, \"margin\": {\"t\": 60}, \"polar\": {\"angularaxis\": {\"direction\": \"clockwise\", \"rotation\": 90}, \"domain\": {\"x\": [0.0, 1.0], \"y\": [0.0, 1.0]}}, \"template\": {\"data\": {\"bar\": [{\"error_x\": {\"color\": \"#2a3f5f\"}, \"error_y\": {\"color\": \"#2a3f5f\"}, \"marker\": {\"line\": {\"color\": \"#E5ECF6\", \"width\": 0.5}}, \"type\": \"bar\"}], \"barpolar\": [{\"marker\": {\"line\": {\"color\": \"#E5ECF6\", \"width\": 0.5}}, \"type\": \"barpolar\"}], \"carpet\": [{\"aaxis\": {\"endlinecolor\": \"#2a3f5f\", \"gridcolor\": \"white\", \"linecolor\": \"white\", \"minorgridcolor\": \"white\", \"startlinecolor\": \"#2a3f5f\"}, \"baxis\": {\"endlinecolor\": \"#2a3f5f\", \"gridcolor\": \"white\", \"linecolor\": \"white\", \"minorgridcolor\": \"white\", \"startlinecolor\": \"#2a3f5f\"}, \"type\": \"carpet\"}], \"choropleth\": [{\"colorbar\": {\"outlinewidth\": 0, \"ticks\": \"\"}, \"type\": \"choropleth\"}], \"contour\": [{\"colorbar\": {\"outlinewidth\": 0, \"ticks\": \"\"}, \"colorscale\": [[0.0, \"#0d0887\"], [0.1111111111111111, \"#46039f\"], [0.2222222222222222, \"#7201a8\"], [0.3333333333333333, \"#9c179e\"], [0.4444444444444444, \"#bd3786\"], [0.5555555555555556, \"#d8576b\"], [0.6666666666666666, \"#ed7953\"], [0.7777777777777778, \"#fb9f3a\"], [0.8888888888888888, \"#fdca26\"], [1.0, \"#f0f921\"]], \"type\": \"contour\"}], \"contourcarpet\": [{\"colorbar\": {\"outlinewidth\": 0, \"ticks\": \"\"}, \"type\": \"contourcarpet\"}], \"heatmap\": [{\"colorbar\": {\"outlinewidth\": 0, \"ticks\": \"\"}, \"colorscale\": [[0.0, \"#0d0887\"], [0.1111111111111111, \"#46039f\"], [0.2222222222222222, \"#7201a8\"], [0.3333333333333333, \"#9c179e\"], [0.4444444444444444, \"#bd3786\"], [0.5555555555555556, \"#d8576b\"], [0.6666666666666666, \"#ed7953\"], [0.7777777777777778, \"#fb9f3a\"], [0.8888888888888888, \"#fdca26\"], [1.0, \"#f0f921\"]], \"type\": \"heatmap\"}], \"heatmapgl\": [{\"colorbar\": {\"outlinewidth\": 0, \"ticks\": \"\"}, \"colorscale\": [[0.0, \"#0d0887\"], [0.1111111111111111, \"#46039f\"], [0.2222222222222222, \"#7201a8\"], [0.3333333333333333, \"#9c179e\"], [0.4444444444444444, \"#bd3786\"], [0.5555555555555556, \"#d8576b\"], [0.6666666666666666, \"#ed7953\"], [0.7777777777777778, \"#fb9f3a\"], [0.8888888888888888, \"#fdca26\"], [1.0, \"#f0f921\"]], \"type\": \"heatmapgl\"}], \"histogram\": [{\"marker\": {\"colorbar\": {\"outlinewidth\": 0, \"ticks\": \"\"}}, \"type\": \"histogram\"}], \"histogram2d\": [{\"colorbar\": {\"outlinewidth\": 0, \"ticks\": \"\"}, \"colorscale\": [[0.0, \"#0d0887\"], [0.1111111111111111, \"#46039f\"], [0.2222222222222222, \"#7201a8\"], [0.3333333333333333, \"#9c179e\"], [0.4444444444444444, \"#bd3786\"], [0.5555555555555556, \"#d8576b\"], [0.6666666666666666, \"#ed7953\"], [0.7777777777777778, \"#fb9f3a\"], [0.8888888888888888, \"#fdca26\"], [1.0, \"#f0f921\"]], \"type\": \"histogram2d\"}], \"histogram2dcontour\": [{\"colorbar\": {\"outlinewidth\": 0, \"ticks\": \"\"}, \"colorscale\": [[0.0, \"#0d0887\"], [0.1111111111111111, \"#46039f\"], [0.2222222222222222, \"#7201a8\"], [0.3333333333333333, \"#9c179e\"], [0.4444444444444444, \"#bd3786\"], [0.5555555555555556, \"#d8576b\"], [0.6666666666666666, \"#ed7953\"], [0.7777777777777778, \"#fb9f3a\"], [0.8888888888888888, \"#fdca26\"], [1.0, \"#f0f921\"]], \"type\": \"histogram2dcontour\"}], \"mesh3d\": [{\"colorbar\": {\"outlinewidth\": 0, \"ticks\": \"\"}, \"type\": \"mesh3d\"}], \"parcoords\": [{\"line\": {\"colorbar\": {\"outlinewidth\": 0, \"ticks\": \"\"}}, \"type\": \"parcoords\"}], \"pie\": [{\"automargin\": true, \"type\": \"pie\"}], \"scatter\": [{\"marker\": {\"colorbar\": {\"outlinewidth\": 0, \"ticks\": \"\"}}, \"type\": \"scatter\"}], \"scatter3d\": [{\"line\": {\"colorbar\": {\"outlinewidth\": 0, \"ticks\": \"\"}}, \"marker\": {\"colorbar\": {\"outlinewidth\": 0, \"ticks\": \"\"}}, \"type\": \"scatter3d\"}], \"scattercarpet\": [{\"marker\": {\"colorbar\": {\"outlinewidth\": 0, \"ticks\": \"\"}}, \"type\": \"scattercarpet\"}], \"scattergeo\": [{\"marker\": {\"colorbar\": {\"outlinewidth\": 0, \"ticks\": \"\"}}, \"type\": \"scattergeo\"}], \"scattergl\": [{\"marker\": {\"colorbar\": {\"outlinewidth\": 0, \"ticks\": \"\"}}, \"type\": \"scattergl\"}], \"scattermapbox\": [{\"marker\": {\"colorbar\": {\"outlinewidth\": 0, \"ticks\": \"\"}}, \"type\": \"scattermapbox\"}], \"scatterpolar\": [{\"marker\": {\"colorbar\": {\"outlinewidth\": 0, \"ticks\": \"\"}}, \"type\": \"scatterpolar\"}], \"scatterpolargl\": [{\"marker\": {\"colorbar\": {\"outlinewidth\": 0, \"ticks\": \"\"}}, \"type\": \"scatterpolargl\"}], \"scatterternary\": [{\"marker\": {\"colorbar\": {\"outlinewidth\": 0, \"ticks\": \"\"}}, \"type\": \"scatterternary\"}], \"surface\": [{\"colorbar\": {\"outlinewidth\": 0, \"ticks\": \"\"}, \"colorscale\": [[0.0, \"#0d0887\"], [0.1111111111111111, \"#46039f\"], [0.2222222222222222, \"#7201a8\"], [0.3333333333333333, \"#9c179e\"], [0.4444444444444444, \"#bd3786\"], [0.5555555555555556, \"#d8576b\"], [0.6666666666666666, \"#ed7953\"], [0.7777777777777778, \"#fb9f3a\"], [0.8888888888888888, \"#fdca26\"], [1.0, \"#f0f921\"]], \"type\": \"surface\"}], \"table\": [{\"cells\": {\"fill\": {\"color\": \"#EBF0F8\"}, \"line\": {\"color\": \"white\"}}, \"header\": {\"fill\": {\"color\": \"#C8D4E3\"}, \"line\": {\"color\": \"white\"}}, \"type\": \"table\"}]}, \"layout\": {\"annotationdefaults\": {\"arrowcolor\": \"#2a3f5f\", \"arrowhead\": 0, \"arrowwidth\": 1}, \"coloraxis\": {\"colorbar\": {\"outlinewidth\": 0, \"ticks\": \"\"}}, \"colorscale\": {\"diverging\": [[0, \"#8e0152\"], [0.1, \"#c51b7d\"], [0.2, \"#de77ae\"], [0.3, \"#f1b6da\"], [0.4, \"#fde0ef\"], [0.5, \"#f7f7f7\"], [0.6, \"#e6f5d0\"], [0.7, \"#b8e186\"], [0.8, \"#7fbc41\"], [0.9, \"#4d9221\"], [1, \"#276419\"]], \"sequential\": [[0.0, \"#0d0887\"], [0.1111111111111111, \"#46039f\"], [0.2222222222222222, \"#7201a8\"], [0.3333333333333333, \"#9c179e\"], [0.4444444444444444, \"#bd3786\"], [0.5555555555555556, \"#d8576b\"], [0.6666666666666666, \"#ed7953\"], [0.7777777777777778, \"#fb9f3a\"], [0.8888888888888888, \"#fdca26\"], [1.0, \"#f0f921\"]], \"sequentialminus\": [[0.0, \"#0d0887\"], [0.1111111111111111, \"#46039f\"], [0.2222222222222222, \"#7201a8\"], [0.3333333333333333, \"#9c179e\"], [0.4444444444444444, \"#bd3786\"], [0.5555555555555556, \"#d8576b\"], [0.6666666666666666, \"#ed7953\"], [0.7777777777777778, \"#fb9f3a\"], [0.8888888888888888, \"#fdca26\"], [1.0, \"#f0f921\"]]}, \"colorway\": [\"#636efa\", \"#EF553B\", \"#00cc96\", \"#ab63fa\", \"#FFA15A\", \"#19d3f3\", \"#FF6692\", \"#B6E880\", \"#FF97FF\", \"#FECB52\"], \"font\": {\"color\": \"#2a3f5f\"}, \"geo\": {\"bgcolor\": \"white\", \"lakecolor\": \"white\", \"landcolor\": \"#E5ECF6\", \"showlakes\": true, \"showland\": true, \"subunitcolor\": \"white\"}, \"hoverlabel\": {\"align\": \"left\"}, \"hovermode\": \"closest\", \"mapbox\": {\"style\": \"light\"}, \"paper_bgcolor\": \"white\", \"plot_bgcolor\": \"#E5ECF6\", \"polar\": {\"angularaxis\": {\"gridcolor\": \"white\", \"linecolor\": \"white\", \"ticks\": \"\"}, \"bgcolor\": \"#E5ECF6\", \"radialaxis\": {\"gridcolor\": \"white\", \"linecolor\": \"white\", \"ticks\": \"\"}}, \"scene\": {\"xaxis\": {\"backgroundcolor\": \"#E5ECF6\", \"gridcolor\": \"white\", \"gridwidth\": 2, \"linecolor\": \"white\", \"showbackground\": true, \"ticks\": \"\", \"zerolinecolor\": \"white\"}, \"yaxis\": {\"backgroundcolor\": \"#E5ECF6\", \"gridcolor\": \"white\", \"gridwidth\": 2, \"linecolor\": \"white\", \"showbackground\": true, \"ticks\": \"\", \"zerolinecolor\": \"white\"}, \"zaxis\": {\"backgroundcolor\": \"#E5ECF6\", \"gridcolor\": \"white\", \"gridwidth\": 2, \"linecolor\": \"white\", \"showbackground\": true, \"ticks\": \"\", \"zerolinecolor\": \"white\"}}, \"shapedefaults\": {\"line\": {\"color\": \"#2a3f5f\"}}, \"ternary\": {\"aaxis\": {\"gridcolor\": \"white\", \"linecolor\": \"white\", \"ticks\": \"\"}, \"baxis\": {\"gridcolor\": \"white\", \"linecolor\": \"white\", \"ticks\": \"\"}, \"bgcolor\": \"#E5ECF6\", \"caxis\": {\"gridcolor\": \"white\", \"linecolor\": \"white\", \"ticks\": \"\"}}, \"title\": {\"x\": 0.05}, \"xaxis\": {\"automargin\": true, \"gridcolor\": \"white\", \"linecolor\": \"white\", \"ticks\": \"\", \"title\": {\"standoff\": 15}, \"zerolinecolor\": \"white\", \"zerolinewidth\": 2}, \"yaxis\": {\"automargin\": true, \"gridcolor\": \"white\", \"linecolor\": \"white\", \"ticks\": \"\", \"title\": {\"standoff\": 15}, \"zerolinecolor\": \"white\", \"zerolinewidth\": 2}}}, \"width\": 1400},\n",
              "                        {\"responsive\": true}\n",
              "                    ).then(function(){\n",
              "                            \n",
              "var gd = document.getElementById('4c2541b3-7aa6-4247-ac63-0fccd9cb8b48');\n",
              "var x = new MutationObserver(function (mutations, observer) {{\n",
              "        var display = window.getComputedStyle(gd).display;\n",
              "        if (!display || display === 'none') {{\n",
              "            console.log([gd, 'removed!']);\n",
              "            Plotly.purge(gd);\n",
              "            observer.disconnect();\n",
              "        }}\n",
              "}});\n",
              "\n",
              "// Listen for the removal of the full notebook cells\n",
              "var notebookContainer = gd.closest('#notebook-container');\n",
              "if (notebookContainer) {{\n",
              "    x.observe(notebookContainer, {childList: true});\n",
              "}}\n",
              "\n",
              "// Listen for the clearing of the current output cell\n",
              "var outputEl = gd.closest('.output');\n",
              "if (outputEl) {{\n",
              "    x.observe(outputEl, {childList: true});\n",
              "}}\n",
              "\n",
              "                        })\n",
              "                };\n",
              "                \n",
              "            </script>\n",
              "        </div>\n",
              "</body>\n",
              "</html>"
            ]
          },
          "metadata": {
            "tags": []
          }
        }
      ]
    },
    {
      "cell_type": "code",
      "metadata": {
        "id": "Y4exhvO9CgGx",
        "colab": {
          "base_uri": "https://localhost:8080/",
          "height": 296
        },
        "outputId": "b3f8cb14-8fb5-4663-c92d-33675989e8cf"
      },
      "source": [
        "from sklearn.decomposition import PCA\n",
        "\n",
        "pca = PCA(n_components=2)\n",
        "label = df['cluster']\n",
        "label = label.to_list()\n",
        "df = df.drop('cluster', axis=1)\n",
        "pca = pca.fit_transform(df)\n",
        "df = pd.DataFrame()\n",
        "\n",
        "df['pca-one'] = pca[:,0]\n",
        "df['pca-two'] = pca[:,1]\n",
        "df['cluster'] = label\n",
        "\n",
        "sns.scatterplot(data=df, x='pca-one', y='pca-two', hue='cluster')"
      ],
      "execution_count": null,
      "outputs": [
        {
          "output_type": "execute_result",
          "data": {
            "text/plain": [
              "<matplotlib.axes._subplots.AxesSubplot at 0x7fa7cfd81850>"
            ]
          },
          "metadata": {
            "tags": []
          },
          "execution_count": 169
        },
        {
          "output_type": "display_data",
          "data": {
            "image/png": "[encoded data removed]",
            "text/plain": [
              "<Figure size 432x288 with 1 Axes>"
            ]
          },
          "metadata": {
            "tags": [],
            "needs_background": "light"
          }
        }
      ]
    },
    {
      "cell_type": "markdown",
      "metadata": {
        "id": "bsvFTfknegto"
      },
      "source": [
        "# Elbow Method"
      ]
    },
    {
      "cell_type": "code",
      "metadata": {
        "id": "BY7Zf-micEbj"
      },
      "source": [
        "X = np.array(df_norm) \n",
        "sum_K = []\n",
        "#inisialisasi awal centroid\n",
        "for i in range(1,10):\n",
        "  centroid_awal = random.sample(range(0,len(df_norm)),i) \n",
        "  centroids = []\n",
        "  #mencari data dengan index centroid awal\n",
        "  for j in centroid_awal:      \n",
        "    centroids.append(df_norm.loc[j])\n",
        "  #dijadikan array dari list\n",
        "  centroids = np.array(centroids)\n",
        "  for k in range(1):\n",
        "    get_centroids,get_elbow = findClosestCentroids(centroids, X) \n",
        "    centroids,df = calc_centroids(get_centroids, X)\n",
        "    get_elbow = np.array(get_elbow)    \n",
        "    sum_K.append(np.sum(get_elbow)) "
      ],
      "execution_count": null,
      "outputs": []
    },
    {
      "cell_type": "code",
      "metadata": {
        "colab": {
          "base_uri": "https://localhost:8080/"
        },
        "id": "F4-l_Q1CtrjS",
        "outputId": "96ffc641-f34d-41d4-d61c-958cee607bba"
      },
      "source": [
        "sum_K"
      ],
      "execution_count": null,
      "outputs": [
        {
          "output_type": "execute_result",
          "data": {
            "text/plain": [
              "[137686.7018185905,\n",
              " 94257.2575363382,\n",
              " 102431.67426560305,\n",
              " 93413.37583488204,\n",
              " 88999.31946607845,\n",
              " 89642.27945624822,\n",
              " 79453.89614606848,\n",
              " 76480.69614460455,\n",
              " 76128.53038859485]"
            ]
          },
          "metadata": {
            "tags": []
          },
          "execution_count": 130
        }
      ]
    },
    {
      "cell_type": "code",
      "metadata": {
        "colab": {
          "base_uri": "https://localhost:8080/",
          "height": 284
        },
        "id": "wdVcfSD0tvLN",
        "outputId": "26047278-afa0-4048-ff66-83e206b947a1"
      },
      "source": [
        "sns.lineplot(data=sum_K)\n",
        "sns.scatterplot(data = sum_K)"
      ],
      "execution_count": null,
      "outputs": [
        {
          "output_type": "execute_result",
          "data": {
            "text/plain": [
              "<matplotlib.axes._subplots.AxesSubplot at 0x7fa7d053fb50>"
            ]
          },
          "metadata": {
            "tags": []
          },
          "execution_count": 131
        },
        {
          "output_type": "display_data",
          "data": {
            "image/png": "[encoded data removed]",
            "text/plain": [
              "<Figure size 432x288 with 1 Axes>"
            ]
          },
          "metadata": {
            "tags": [],
            "needs_background": "light"
          }
        }
      ]
    }
  ]
}